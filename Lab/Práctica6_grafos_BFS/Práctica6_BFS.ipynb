{
 "cells": [
  {
   "cell_type": "code",
   "execution_count": 1,
   "metadata": {},
   "outputs": [],
   "source": [
    "import numpy as np\n",
    "import matplotlib.pyplot as plt \n",
    "from mpl_toolkits.mplot3d import Axes3D\n",
    "import random\n",
    "%matplotlib inline\n",
    "import math\n",
    "#from Node import *"
   ]
  },
  {
   "cell_type": "code",
   "execution_count": 2,
   "metadata": {},
   "outputs": [],
   "source": [
    "totalGraph = [2,1,10,3,2,10,3,4,10]"
   ]
  },
  {
   "cell_type": "code",
   "execution_count": 3,
   "metadata": {},
   "outputs": [],
   "source": [
    "class Node:\n",
    "    to = 0\n",
    "    previous = None\n",
    "    cost = 0\n",
    "    distance = -1\n",
    "    color = \"White\"\n",
    "\n",
    "class Graph:\n",
    "    edges = []\n",
    "    grades = []\n",
    "    numNodes = 0\n",
    "    numEdges = 0\n",
    "    isDirected = False\n",
    "    hasCost = False"
   ]
  },
  {
   "cell_type": "code",
   "execution_count": 4,
   "metadata": {},
   "outputs": [],
   "source": [
    "def startGraph(g, MAXV):\n",
    "    g.numNodes = 0\n",
    "    g.numEdges = 0\n",
    "    i = 0\n",
    "    while i <= MAXV:\n",
    "        g.grades.append(0)\n",
    "        i += 1\n",
    "    i = 0\n",
    "    while i <= MAXV:\n",
    "        g.edges.append(None)\n",
    "        i += 1\n",
    "\n",
    "\n",
    "def createGraph(g, matrix):\n",
    "    k = 0\n",
    "    u = 0\n",
    "    v = 0\n",
    "    cost = 0\n",
    "    i = 0\n",
    "    while k < len(totalGraph):\n",
    "        u = totalGraph[k]\n",
    "        v = totalGraph[k+1]\n",
    "        cost = totalGraph[k+2]\n",
    "        insertEdge(g,u,v,cost,g.isDirected)\n",
    "        matrix[u-1][v-1] = cost\n",
    "        if g.isDirected == False:\n",
    "            matrix[v-1][u-1] = cost\n",
    "        k += 3\n",
    "        \n",
    "def insertEdge(g,u,v,cost,isDirected):\n",
    "    item = Node()\n",
    "    item.to = v\n",
    "    item.previous = g.edges[u] #None para el primer elemento\n",
    "    item.cost = cost\n",
    "    g.edges[u] = item\n",
    "    g.grades [u] += 1\n",
    "    if isDirected == False and v != u:\n",
    "        insertEdge(g,v,u,cost, True)\n",
    "    else:\n",
    "        g.numEdges += 1\n",
    "\n",
    "def printGraph(g):\n",
    "    i=1\n",
    "    item =  None\n",
    "    string = \"\"\n",
    "    while i<=g.numNodes:\n",
    "        string += str(i) + \"\\t\"\n",
    "        item = g.edges[i]\n",
    "        while item != None:\n",
    "            string += str(item.to) + \" : \" + str(item.cost) + \"\\t\"\n",
    "            item = item.previous\n",
    "        string += \"\\n\"\n",
    "        i += 1\n",
    "    print(string)\n"
   ]
  },
  {
   "cell_type": "code",
   "execution_count": 5,
   "metadata": {},
   "outputs": [],
   "source": [
    "cola = []\n",
    "contador = 0\n",
    "def BFS(G, intS):\n",
    "    global contador\n",
    "    contador = 0\n",
    "    G.edges[intS].color = \"Gray\"\n",
    "    G.edges[intS].distance = 0\n",
    "\n",
    "    cola.append(G.edges[intS])\n",
    "\n",
    "    while len(cola) != 0:\n",
    "        U = cola.pop(0)\n",
    "        V = U\n",
    "        while U != None:\n",
    "            contador += 1\n",
    "            if G.edges[U.to] != None:\n",
    "                if G.edges[U.to].color == \"White\":\n",
    "                    G.edges[U.to].color = \"Gray\"\n",
    "                    G.edges[U.to].distance = V.distance + 1\n",
    "                    cola.append(G.edges[U.to])\n",
    "            U = U.previous\n",
    "        V.color = \"Black\"\n",
    "\n",
    "    for i in range(G.numNodes + 1):\n",
    "        if G.edges[i] != None:\n",
    "            print(str(i) + \" - \" + G.edges[i].color + \":\"+ str(G.edges[i].distance))"
   ]
  },
  {
   "cell_type": "code",
   "execution_count": 6,
   "metadata": {},
   "outputs": [],
   "source": [
    "def mainAdyacentList():\n",
    "    global contador\n",
    "    contador = 0\n",
    "    g = Graph()\n",
    "    g.edges = []\n",
    "    g.grades = []\n",
    "    g.numNodes = 0\n",
    "    g.numEdges = 0\n",
    "    g.isDirected = True if int(input(\"Directed (1) ? Not Directed (2)? : \")) == 1 else False\n",
    "    g.hasCost = True if int(input(\"Cost (1) ? No Cost (2)? : \")) == 1 else False\n",
    "    MAXV = int(input(\"Number of nodes: \"))\n",
    "    s=(MAXV,MAXV)\n",
    "    matrix = np.zeros(s)\n",
    "    startGraph(g, MAXV)\n",
    "    g.numNodes = MAXV\n",
    "    g.numEdges = int(input(\"Number of edges: \"))\n",
    "    createGraph(g, matrix)\n",
    "    print(\"Graph length: \" + str(len(g.edges)))\n",
    "    printGraph(g)\n",
    "    BFS(g,3)\n",
    "    print(\"Contador \" + str(contador))\n",
    "    "
   ]
  },
  {
   "cell_type": "code",
   "execution_count": 10,
   "metadata": {},
   "outputs": [
    {
     "name": "stdout",
     "output_type": "stream",
     "text": [
      "Graph length: 0\n",
      "Graph length: 0\n",
      "Graph length: 0\n",
      "Directed (1) ? Not Directed (2)? : 2\n",
      "Cost (1) ? No Cost (2)? : 1\n",
      "Number of nodes: 4\n",
      "Number of edges: 3\n",
      "Graph length: 5\n",
      "1\t2 : 10\t\n",
      "2\t3 : 10\t1 : 10\t\n",
      "3\t4 : 10\t2 : 10\t\n",
      "4\t3 : 10\t\n",
      "\n",
      "1 - Black:2\n",
      "2 - Black:1\n",
      "3 - Black:0\n",
      "4 - Black:1\n",
      "Contador 6\n"
     ]
    }
   ],
   "source": [
    "mainAdyacentList()"
   ]
  },
  {
   "cell_type": "code",
   "execution_count": 14,
   "metadata": {},
   "outputs": [],
   "source": [
    "def worstCase():\n",
    "    global contador\n",
    "    g = Graph()\n",
    "    g.edges = []\n",
    "    g.grades = []\n",
    "    g.numNodes = 0\n",
    "    g.numEdges = 0\n",
    "    g.isDirected = False \n",
    "    g.hasCost = True \n",
    "    j = 0\n",
    "    for i in xrange(0,len(totalGraph), 3):\n",
    "        j += 1\n",
    "        contador = 0\n",
    "        MAXV = j\n",
    "        s=(MAXV,MAXV)\n",
    "        matrix = np.zeros(s)\n",
    "        startGraph(g, MAXV)\n",
    "        g.numNodes = MAXV\n",
    "        g.numEdges = 1 + (j-1)\n",
    "        createGraph(g, matrix)\n",
    "        printGraph(g)\n",
    "    "
   ]
  },
  {
   "cell_type": "code",
   "execution_count": 15,
   "metadata": {},
   "outputs": [
    {
     "ename": "IndexError",
     "evalue": "list index out of range",
     "output_type": "error",
     "traceback": [
      "\u001b[0;31m---------------------------------------------------------------------------\u001b[0m",
      "\u001b[0;31mIndexError\u001b[0m                                Traceback (most recent call last)",
      "\u001b[0;32m<ipython-input-15-fb0421744add>\u001b[0m in \u001b[0;36m<module>\u001b[0;34m()\u001b[0m\n\u001b[0;32m----> 1\u001b[0;31m \u001b[0mworstCase\u001b[0m\u001b[0;34m(\u001b[0m\u001b[0;34m)\u001b[0m\u001b[0;34m\u001b[0m\u001b[0m\n\u001b[0m",
      "\u001b[0;32m<ipython-input-14-5d2494664d68>\u001b[0m in \u001b[0;36mworstCase\u001b[0;34m()\u001b[0m\n\u001b[1;32m     18\u001b[0m         \u001b[0mg\u001b[0m\u001b[0;34m.\u001b[0m\u001b[0mnumNodes\u001b[0m \u001b[0;34m=\u001b[0m \u001b[0mMAXV\u001b[0m\u001b[0;34m\u001b[0m\u001b[0m\n\u001b[1;32m     19\u001b[0m         \u001b[0mg\u001b[0m\u001b[0;34m.\u001b[0m\u001b[0mnumEdges\u001b[0m \u001b[0;34m=\u001b[0m \u001b[0mj\u001b[0m\u001b[0;34m-\u001b[0m\u001b[0;36m1\u001b[0m\u001b[0;34m\u001b[0m\u001b[0m\n\u001b[0;32m---> 20\u001b[0;31m         \u001b[0mcreateGraph\u001b[0m\u001b[0;34m(\u001b[0m\u001b[0mg\u001b[0m\u001b[0;34m,\u001b[0m \u001b[0mmatrix\u001b[0m\u001b[0;34m)\u001b[0m\u001b[0;34m\u001b[0m\u001b[0m\n\u001b[0m\u001b[1;32m     21\u001b[0m         \u001b[0mprintGraph\u001b[0m\u001b[0;34m(\u001b[0m\u001b[0mg\u001b[0m\u001b[0;34m)\u001b[0m\u001b[0;34m\u001b[0m\u001b[0m\n\u001b[1;32m     22\u001b[0m \u001b[0;34m\u001b[0m\u001b[0m\n",
      "\u001b[0;32m<ipython-input-4-64d50bc4b38c>\u001b[0m in \u001b[0;36mcreateGraph\u001b[0;34m(g, matrix)\u001b[0m\n\u001b[1;32m     22\u001b[0m         \u001b[0mv\u001b[0m \u001b[0;34m=\u001b[0m \u001b[0mtotalGraph\u001b[0m\u001b[0;34m[\u001b[0m\u001b[0mk\u001b[0m\u001b[0;34m+\u001b[0m\u001b[0;36m1\u001b[0m\u001b[0;34m]\u001b[0m\u001b[0;34m\u001b[0m\u001b[0m\n\u001b[1;32m     23\u001b[0m         \u001b[0mcost\u001b[0m \u001b[0;34m=\u001b[0m \u001b[0mtotalGraph\u001b[0m\u001b[0;34m[\u001b[0m\u001b[0mk\u001b[0m\u001b[0;34m+\u001b[0m\u001b[0;36m2\u001b[0m\u001b[0;34m]\u001b[0m\u001b[0;34m\u001b[0m\u001b[0m\n\u001b[0;32m---> 24\u001b[0;31m         \u001b[0minsertEdge\u001b[0m\u001b[0;34m(\u001b[0m\u001b[0mg\u001b[0m\u001b[0;34m,\u001b[0m\u001b[0mu\u001b[0m\u001b[0;34m,\u001b[0m\u001b[0mv\u001b[0m\u001b[0;34m,\u001b[0m\u001b[0mcost\u001b[0m\u001b[0;34m,\u001b[0m\u001b[0mg\u001b[0m\u001b[0;34m.\u001b[0m\u001b[0misDirected\u001b[0m\u001b[0;34m)\u001b[0m\u001b[0;34m\u001b[0m\u001b[0m\n\u001b[0m\u001b[1;32m     25\u001b[0m         \u001b[0mmatrix\u001b[0m\u001b[0;34m[\u001b[0m\u001b[0mu\u001b[0m\u001b[0;34m-\u001b[0m\u001b[0;36m1\u001b[0m\u001b[0;34m]\u001b[0m\u001b[0;34m[\u001b[0m\u001b[0mv\u001b[0m\u001b[0;34m-\u001b[0m\u001b[0;36m1\u001b[0m\u001b[0;34m]\u001b[0m \u001b[0;34m=\u001b[0m \u001b[0mcost\u001b[0m\u001b[0;34m\u001b[0m\u001b[0m\n\u001b[1;32m     26\u001b[0m         \u001b[0;32mif\u001b[0m \u001b[0mg\u001b[0m\u001b[0;34m.\u001b[0m\u001b[0misDirected\u001b[0m \u001b[0;34m==\u001b[0m \u001b[0mFalse\u001b[0m\u001b[0;34m:\u001b[0m\u001b[0;34m\u001b[0m\u001b[0m\n",
      "\u001b[0;32m<ipython-input-4-64d50bc4b38c>\u001b[0m in \u001b[0;36minsertEdge\u001b[0;34m(g, u, v, cost, isDirected)\u001b[0m\n\u001b[1;32m     31\u001b[0m     \u001b[0mitem\u001b[0m \u001b[0;34m=\u001b[0m \u001b[0mNode\u001b[0m\u001b[0;34m(\u001b[0m\u001b[0;34m)\u001b[0m\u001b[0;34m\u001b[0m\u001b[0m\n\u001b[1;32m     32\u001b[0m     \u001b[0mitem\u001b[0m\u001b[0;34m.\u001b[0m\u001b[0mto\u001b[0m \u001b[0;34m=\u001b[0m \u001b[0mv\u001b[0m\u001b[0;34m\u001b[0m\u001b[0m\n\u001b[0;32m---> 33\u001b[0;31m     \u001b[0mitem\u001b[0m\u001b[0;34m.\u001b[0m\u001b[0mprevious\u001b[0m \u001b[0;34m=\u001b[0m \u001b[0mg\u001b[0m\u001b[0;34m.\u001b[0m\u001b[0medges\u001b[0m\u001b[0;34m[\u001b[0m\u001b[0mu\u001b[0m\u001b[0;34m]\u001b[0m \u001b[0;31m#None para el primer elemento\u001b[0m\u001b[0;34m\u001b[0m\u001b[0m\n\u001b[0m\u001b[1;32m     34\u001b[0m     \u001b[0mitem\u001b[0m\u001b[0;34m.\u001b[0m\u001b[0mcost\u001b[0m \u001b[0;34m=\u001b[0m \u001b[0mcost\u001b[0m\u001b[0;34m\u001b[0m\u001b[0m\n\u001b[1;32m     35\u001b[0m     \u001b[0mg\u001b[0m\u001b[0;34m.\u001b[0m\u001b[0medges\u001b[0m\u001b[0;34m[\u001b[0m\u001b[0mu\u001b[0m\u001b[0;34m]\u001b[0m \u001b[0;34m=\u001b[0m \u001b[0mitem\u001b[0m\u001b[0;34m\u001b[0m\u001b[0m\n",
      "\u001b[0;31mIndexError\u001b[0m: list index out of range"
     ]
    }
   ],
   "source": [
    "worstCase()"
   ]
  }
 ],
 "metadata": {
  "kernelspec": {
   "display_name": "Python 3",
   "language": "python",
   "name": "python3"
  },
  "language_info": {
   "codemirror_mode": {
    "name": "ipython",
    "version": 2
   },
   "file_extension": ".py",
   "mimetype": "text/x-python",
   "name": "python",
   "nbconvert_exporter": "python",
   "pygments_lexer": "ipython2",
   "version": "2.7.15"
  }
 },
 "nbformat": 4,
 "nbformat_minor": 2
}
