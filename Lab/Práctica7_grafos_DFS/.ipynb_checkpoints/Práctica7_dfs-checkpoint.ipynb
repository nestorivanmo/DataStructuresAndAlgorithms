{
 "cells": [
  {
   "cell_type": "code",
   "execution_count": 25,
   "metadata": {},
   "outputs": [],
   "source": [
    "from Graph import *;\n",
    "import numpy as np\n",
    "import random"
   ]
  },
  {
   "cell_type": "code",
   "execution_count": 26,
   "metadata": {},
   "outputs": [],
   "source": [
    "totalGraph = [1,2,0,1,4,0,4,2,0,2,5,0,5,4,0,3,5,0,3,6,0,6,6,0]\n",
    "g = Graph()\n",
    "MAXV = 0\n",
    "times = 0\n",
    "\n",
    "colors = []\n",
    "predecessors = []\n",
    "distances = []\n",
    "finishes = []"
   ]
  },
  {
   "cell_type": "code",
   "execution_count": 27,
   "metadata": {},
   "outputs": [],
   "source": [
    "# Depth First Search algorithm\n",
    "def depthFirstSearch(g):\n",
    "    global times\n",
    "    for u in range(g.numNodes+1):\n",
    "            colors.append(\"White\")\n",
    "            predecessors.append(None)\n",
    "            distances.append(0)\n",
    "            finishes.append(0)\n",
    "    times = 0\n",
    "    for u in range(g.numNodes):\n",
    "        if u > 0:\n",
    "            if colors[u] == \"White\":\n",
    "                print(\"Visiting u : \" + str(u))\n",
    "                visit(u)\n",
    "\n",
    "# Function that visits all adjacent nodes to a node U\n",
    "def visit(u):\n",
    "    global times\n",
    "    global colors\n",
    "    global distances\n",
    "    global finishes\n",
    "    global predecessors\n",
    "\n",
    "    colors[u] = \"Gray\"\n",
    "    times += 1\n",
    "    distances[u] = times\n",
    "    # print(\"U \" + str(u))\n",
    "    # print(colors[u])\n",
    "    v = g.edges[u]\n",
    "    while v != None:\n",
    "        V = v.to\n",
    "        print(str(u) + \":\" + colors[u] + \" -> \" + str(V) + \":\" + colors[V])\n",
    "        if colors[V] == \"White\":\n",
    "            predecessors[V] = u\n",
    "            visit(V)\n",
    "        v = v.previous\n",
    "\n",
    "    colors[u] = \"Black\"\n",
    "    times = times + 1\n",
    "    finishes[u] = times"
   ]
  },
  {
   "cell_type": "code",
   "execution_count": 28,
   "metadata": {},
   "outputs": [],
   "source": [
    "# Function\n",
    "def printUpdatedGraph(g):\n",
    "    for u in range(1,len(g.edges)):\n",
    "        print(str(u) + \" \" + colors[u]+\" ( \"+str(distances[u])+\"/\"+str(finishes[u]) + \" )\")"
   ]
  },
  {
   "cell_type": "code",
   "execution_count": 32,
   "metadata": {},
   "outputs": [],
   "source": [
    "# Basic set up functions to start and create the graph\n",
    "def setDirectedCostGraph():\n",
    "    g.isDirected = True if int(input(\"Directed (1) ? Not Directed (2)? : \")) == 1 else False\n",
    "    g.hasCost = True if int(input(\"Cost (1) ? No Cost (2)? : \")) == 1 else False\n",
    "\n",
    "def setNumNodesNumEdgesAndCreateGraph():\n",
    "    MAXV = int(input(\"Number of nodes: \"))\n",
    "    s=(MAXV,MAXV)\n",
    "    matrix = np.zeros(s)\n",
    "    startGraph(g, MAXV)\n",
    "    g.numNodes = MAXV\n",
    "    g.numEdges = int(input(\"Number of edges: \"))\n",
    "    createGraph(g, matrix, totalGraph)\n",
    "    printGraph(g)"
   ]
  },
  {
   "cell_type": "code",
   "execution_count": 30,
   "metadata": {},
   "outputs": [],
   "source": [
    "# Main function\n",
    "def main():\n",
    "    setDirectedCostGraph()\n",
    "    setNumNodesNumEdgesAndCreateGraph()\n",
    "    depthFirstSearch(g)\n",
    "    printUpdatedGraph(g)"
   ]
  },
  {
   "cell_type": "code",
   "execution_count": 33,
   "metadata": {},
   "outputs": [
    {
     "name": "stdout",
     "output_type": "stream",
     "text": [
      "Directed (1) ? Not Directed (2)? : 1\n",
      "Cost (1) ? No Cost (2)? : 2\n",
      "Number of nodes: 6\n",
      "Number of edges: 8\n",
      "1 Black ( 1/10 )\n",
      "2 Black ( 3/8 )\n",
      "3 Black ( 11/12 )\n",
      "4 Black ( 2/9 )\n",
      "5 Black ( 4/7 )\n",
      "6 Black ( 5/6 )\n",
      "7 White ( 0/0 )\n",
      "8 White ( 0/0 )\n",
      "9 White ( 0/0 )\n",
      "10 White ( 0/0 )\n",
      "11 White ( 0/0 )\n",
      "12 White ( 0/0 )\n",
      "13 White ( 0/0 )\n"
     ]
    },
    {
     "ename": "IndexError",
     "evalue": "list index out of range",
     "output_type": "error",
     "traceback": [
      "\u001b[0;31m---------------------------------------------------------------------------\u001b[0m",
      "\u001b[0;31mIndexError\u001b[0m                                Traceback (most recent call last)",
      "\u001b[0;32m<ipython-input-33-263240bbee7e>\u001b[0m in \u001b[0;36m<module>\u001b[0;34m()\u001b[0m\n\u001b[0;32m----> 1\u001b[0;31m \u001b[0mmain\u001b[0m\u001b[0;34m(\u001b[0m\u001b[0;34m)\u001b[0m\u001b[0;34m\u001b[0m\u001b[0m\n\u001b[0m",
      "\u001b[0;32m<ipython-input-30-2014758b05be>\u001b[0m in \u001b[0;36mmain\u001b[0;34m()\u001b[0m\n\u001b[1;32m      4\u001b[0m     \u001b[0msetNumNodesNumEdgesAndCreateGraph\u001b[0m\u001b[0;34m(\u001b[0m\u001b[0;34m)\u001b[0m\u001b[0;34m\u001b[0m\u001b[0m\n\u001b[1;32m      5\u001b[0m     \u001b[0mdepthFirstSearch\u001b[0m\u001b[0;34m(\u001b[0m\u001b[0mg\u001b[0m\u001b[0;34m)\u001b[0m\u001b[0;34m\u001b[0m\u001b[0m\n\u001b[0;32m----> 6\u001b[0;31m     \u001b[0mprintUpdatedGraph\u001b[0m\u001b[0;34m(\u001b[0m\u001b[0mg\u001b[0m\u001b[0;34m)\u001b[0m\u001b[0;34m\u001b[0m\u001b[0m\n\u001b[0m",
      "\u001b[0;32m<ipython-input-28-bba841a7a355>\u001b[0m in \u001b[0;36mprintUpdatedGraph\u001b[0;34m(g)\u001b[0m\n\u001b[1;32m      2\u001b[0m \u001b[0;32mdef\u001b[0m \u001b[0mprintUpdatedGraph\u001b[0m\u001b[0;34m(\u001b[0m\u001b[0mg\u001b[0m\u001b[0;34m)\u001b[0m\u001b[0;34m:\u001b[0m\u001b[0;34m\u001b[0m\u001b[0m\n\u001b[1;32m      3\u001b[0m     \u001b[0;32mfor\u001b[0m \u001b[0mu\u001b[0m \u001b[0;32min\u001b[0m \u001b[0mrange\u001b[0m\u001b[0;34m(\u001b[0m\u001b[0;36m1\u001b[0m\u001b[0;34m,\u001b[0m\u001b[0mlen\u001b[0m\u001b[0;34m(\u001b[0m\u001b[0mg\u001b[0m\u001b[0;34m.\u001b[0m\u001b[0medges\u001b[0m\u001b[0;34m)\u001b[0m\u001b[0;34m)\u001b[0m\u001b[0;34m:\u001b[0m\u001b[0;34m\u001b[0m\u001b[0m\n\u001b[0;32m----> 4\u001b[0;31m         \u001b[0;32mprint\u001b[0m\u001b[0;34m(\u001b[0m\u001b[0mstr\u001b[0m\u001b[0;34m(\u001b[0m\u001b[0mu\u001b[0m\u001b[0;34m)\u001b[0m \u001b[0;34m+\u001b[0m \u001b[0;34m\" \"\u001b[0m \u001b[0;34m+\u001b[0m \u001b[0mcolors\u001b[0m\u001b[0;34m[\u001b[0m\u001b[0mu\u001b[0m\u001b[0;34m]\u001b[0m\u001b[0;34m+\u001b[0m\u001b[0;34m\" ( \"\u001b[0m\u001b[0;34m+\u001b[0m\u001b[0mstr\u001b[0m\u001b[0;34m(\u001b[0m\u001b[0mdistances\u001b[0m\u001b[0;34m[\u001b[0m\u001b[0mu\u001b[0m\u001b[0;34m]\u001b[0m\u001b[0;34m)\u001b[0m\u001b[0;34m+\u001b[0m\u001b[0;34m\"/\"\u001b[0m\u001b[0;34m+\u001b[0m\u001b[0mstr\u001b[0m\u001b[0;34m(\u001b[0m\u001b[0mfinishes\u001b[0m\u001b[0;34m[\u001b[0m\u001b[0mu\u001b[0m\u001b[0;34m]\u001b[0m\u001b[0;34m)\u001b[0m \u001b[0;34m+\u001b[0m \u001b[0;34m\" )\"\u001b[0m\u001b[0;34m)\u001b[0m\u001b[0;34m\u001b[0m\u001b[0m\n\u001b[0m",
      "\u001b[0;31mIndexError\u001b[0m: list index out of range"
     ]
    }
   ],
   "source": [
    "main()"
   ]
  },
  {
   "cell_type": "code",
   "execution_count": null,
   "metadata": {},
   "outputs": [],
   "source": []
  },
  {
   "cell_type": "code",
   "execution_count": null,
   "metadata": {},
   "outputs": [],
   "source": []
  }
 ],
 "metadata": {
  "kernelspec": {
   "display_name": "Python 3",
   "language": "python",
   "name": "python3"
  },
  "language_info": {
   "codemirror_mode": {
    "name": "ipython",
    "version": 2
   },
   "file_extension": ".py",
   "mimetype": "text/x-python",
   "name": "python",
   "nbconvert_exporter": "python",
   "pygments_lexer": "ipython2",
   "version": "2.7.15"
  }
 },
 "nbformat": 4,
 "nbformat_minor": 2
}
