{
 "cells": [
  {
   "cell_type": "code",
   "execution_count": 46,
   "metadata": {},
   "outputs": [],
   "source": [
    "import numpy as np\n",
    "import random\n",
    "import matplotlib.pyplot as plt"
   ]
  },
  {
   "cell_type": "code",
   "execution_count": 38,
   "metadata": {},
   "outputs": [],
   "source": [
    "class Node:\n",
    "    to = 0\n",
    "    previous = None\n",
    "    cost = 0\n",
    "    color = \"White\"\n",
    "    distance = 0\n",
    "    finish = 0\n",
    "    predecessor = None"
   ]
  },
  {
   "cell_type": "code",
   "execution_count": 39,
   "metadata": {},
   "outputs": [],
   "source": [
    "class Graph:\n",
    "    edges = []\n",
    "    grades = []\n",
    "    numNodes = 0\n",
    "    numEdges = 0\n",
    "    isDirected = False\n",
    "    hasCost = False\n",
    "\n",
    "def startGraph(g, MAXV):\n",
    "    g.numNodes = 0\n",
    "    g.numEdges = 0\n",
    "    i = 0\n",
    "    while i <= MAXV:\n",
    "        g.grades.append(0)\n",
    "        i += 1\n",
    "    i = 0\n",
    "    while i <= MAXV:\n",
    "        g.edges.append(None)\n",
    "        i += 1\n",
    "\n",
    "def createGraph(g, matrix, totalGraph):\n",
    "    k = 0\n",
    "    u = 0\n",
    "    v = 0\n",
    "    cost = 0\n",
    "    i = 0\n",
    "    while k < len(totalGraph):\n",
    "        u = totalGraph[k]\n",
    "        v = totalGraph[k+1]\n",
    "        if g.hasCost == True:\n",
    "            cost = totalGraph[k+2]\n",
    "        insertEdge(g,u,v,cost,g.isDirected)\n",
    "        # matrix[u-1][v-1] = cost\n",
    "        # if g.isDirected == False:\n",
    "            # matrix[v-1][u-1] = cost\n",
    "        k += 3\n",
    "\n",
    "def insertEdge(g,u,v,cost,isDirected):\n",
    "    item = Node()\n",
    "    item.to = v\n",
    "    item.previous = g.edges[u]\n",
    "    item.cost = cost\n",
    "    g.edges[u] = item\n",
    "    g.grades [u] += 1\n",
    "    if isDirected == False and v != u:\n",
    "        insertEdge(g,v,u,cost, True)\n",
    "    else:\n",
    "        g.numEdges += 1\n",
    "\n",
    "def printGraph(g):\n",
    "    i=1\n",
    "    item =  None\n",
    "    string = \"\"\n",
    "    while i<=g.numNodes:\n",
    "        string += str(i) + \"\\t\"\n",
    "        item = g.edges[i]\n",
    "        while item != None:\n",
    "            string += str(item.to) + \" : \" + str(item.cost) + \"\\t\"\n",
    "            item = item.previous\n",
    "        string += \"\\n\"\n",
    "        i += 1\n",
    "    print(string)"
   ]
  },
  {
   "cell_type": "code",
   "execution_count": 40,
   "metadata": {},
   "outputs": [],
   "source": [
    "totalGraph = [1,2,0,1,4,0,4,2,0,2,5,0,5,4,0,3,5,0,3,6,0,6,6,0]\n",
    "g = Graph()\n",
    "MAXV = 0\n",
    "times = 0\n",
    "\n",
    "colors = []\n",
    "predecessors = []\n",
    "distances = []\n",
    "finishes = []"
   ]
  },
  {
   "cell_type": "code",
   "execution_count": 41,
   "metadata": {},
   "outputs": [],
   "source": [
    "# Depth First Search algorithm\n",
    "def depthFirstSearch(g):\n",
    "    global times\n",
    "    for u in range(g.numNodes+1):\n",
    "            colors.append(\"White\")\n",
    "            predecessors.append(None)\n",
    "            distances.append(0)\n",
    "            finishes.append(0)\n",
    "    times = 0\n",
    "    for u in range(g.numNodes):\n",
    "        if u > 0:\n",
    "            if colors[u] == \"White\":\n",
    "                print(\"Visiting u : \" + str(u))\n",
    "                visit(u)\n",
    "\n",
    "# Function that visits all adjacent nodes to a node U\n",
    "def visit(u):\n",
    "    global times\n",
    "    global colors\n",
    "    global distances\n",
    "    global finishes\n",
    "    global predecessors\n",
    "\n",
    "    colors[u] = \"Gray\"\n",
    "    times += 1\n",
    "    distances[u] = times\n",
    "    # print(\"U \" + str(u))\n",
    "    # print(colors[u])\n",
    "    v = g.edges[u]\n",
    "    while v != None:\n",
    "        V = v.to\n",
    "        print(str(u) + \":\" + colors[u] + \" -> \" + str(V) + \":\" + colors[V])\n",
    "        if colors[V] == \"White\":\n",
    "            predecessors[V] = u\n",
    "            visit(V)\n",
    "        v = v.previous\n",
    "\n",
    "    colors[u] = \"Black\"\n",
    "    times = times + 1\n",
    "    finishes[u] = times"
   ]
  },
  {
   "cell_type": "code",
   "execution_count": 42,
   "metadata": {},
   "outputs": [],
   "source": [
    "# Function\n",
    "def printUpdatedGraph(g):\n",
    "    for u in range(1,len(g.edges)):\n",
    "        print(str(u) + \" \" + colors[u]+\" ( \"+str(distances[u])+\"/\"+str(finishes[u]) + \" )\")"
   ]
  },
  {
   "cell_type": "code",
   "execution_count": 43,
   "metadata": {},
   "outputs": [],
   "source": [
    "# Basic set up functions to start and create the graph\n",
    "def setDirectedCostGraph():\n",
    "    g.isDirected = True if int(input(\"Directed (1) ? Not Directed (2)? : \")) == 1 else False\n",
    "    g.hasCost = True if int(input(\"Cost (1) ? No Cost (2)? : \")) == 1 else False\n",
    "\n",
    "def setNumNodesNumEdgesAndCreateGraph():\n",
    "    MAXV = int(input(\"Number of nodes: \"))\n",
    "    s=(MAXV,MAXV)\n",
    "    matrix = np.zeros(s)\n",
    "    startGraph(g, MAXV)\n",
    "    g.numNodes = MAXV\n",
    "    g.numEdges = int(input(\"Number of edges: \"))\n",
    "    createGraph(g, matrix, totalGraph)\n",
    "    printGraph(g)"
   ]
  },
  {
   "cell_type": "code",
   "execution_count": 44,
   "metadata": {},
   "outputs": [],
   "source": [
    "# Main function\n",
    "def main():\n",
    "    setDirectedCostGraph()\n",
    "    setNumNodesNumEdgesAndCreateGraph()\n",
    "    depthFirstSearch(g)\n",
    "    printUpdatedGraph(g)"
   ]
  },
  {
   "cell_type": "code",
   "execution_count": 45,
   "metadata": {},
   "outputs": [
    {
     "name": "stdout",
     "output_type": "stream",
     "text": [
      "Directed (1) ? Not Directed (2)? : 1\n",
      "Cost (1) ? No Cost (2)? : 2\n",
      "Number of nodes: 6\n",
      "Number of edges: 8\n",
      "1\t4 : 0\t2 : 0\t\n",
      "2\t5 : 0\t\n",
      "3\t6 : 0\t5 : 0\t\n",
      "4\t2 : 0\t\n",
      "5\t4 : 0\t\n",
      "6\t6 : 0\t\n",
      "\n",
      "Visiting u : 1\n",
      "1:Gray -> 4:White\n",
      "4:Gray -> 2:White\n",
      "2:Gray -> 5:White\n",
      "5:Gray -> 4:Gray\n",
      "1:Gray -> 2:Black\n",
      "Visiting u : 3\n",
      "3:Gray -> 6:White\n",
      "6:Gray -> 6:Gray\n",
      "3:Gray -> 5:Black\n",
      "1 Black ( 1/8 )\n",
      "2 Black ( 3/6 )\n",
      "3 Black ( 9/12 )\n",
      "4 Black ( 2/7 )\n",
      "5 Black ( 4/5 )\n",
      "6 Black ( 10/11 )\n"
     ]
    }
   ],
   "source": [
    "main()"
   ]
  },
  {
   "cell_type": "code",
   "execution_count": null,
   "metadata": {},
   "outputs": [],
   "source": []
  },
  {
   "cell_type": "code",
   "execution_count": null,
   "metadata": {},
   "outputs": [],
   "source": []
  }
 ],
 "metadata": {
  "kernelspec": {
   "display_name": "Python 3",
   "language": "python",
   "name": "python3"
  },
  "language_info": {
   "codemirror_mode": {
    "name": "ipython",
    "version": 2
   },
   "file_extension": ".py",
   "mimetype": "text/x-python",
   "name": "python",
   "nbconvert_exporter": "python",
   "pygments_lexer": "ipython2",
   "version": "2.7.15"
  }
 },
 "nbformat": 4,
 "nbformat_minor": 2
}
