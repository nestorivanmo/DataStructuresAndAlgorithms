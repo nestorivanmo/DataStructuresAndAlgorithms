{
 "cells": [
  {
   "cell_type": "code",
   "execution_count": 1,
   "metadata": {},
   "outputs": [],
   "source": [
    "import numpy as np\n",
    "import matplotlib.pyplot as plt \n",
    "from mpl_toolkits.mplot3d import Axes3D\n",
    "import random\n",
    "%matplotlib inline"
   ]
  },
  {
   "cell_type": "code",
   "execution_count": 2,
   "metadata": {},
   "outputs": [],
   "source": [
    "contador = 0\n",
    "def MaxHeapify(arr, n, i):\n",
    "    global contador\n",
    "    largest = i  \n",
    "    l = 2 * i + 1     \n",
    "    r = 2 * i + 2     \n",
    " \n",
    "    if l < n and arr[i] < arr[l]:\n",
    "        largest = l\n",
    " \n",
    "    if r < n and arr[largest] < arr[r]:\n",
    "        largest = r\n",
    "\n",
    "    if largest != i:\n",
    "        arr[i],arr[largest] = arr[largest],arr[i]  \n",
    " \n",
    "        MaxHeapify(arr, n, largest) \n",
    "\n",
    "def HeapSort(arr):\n",
    "    n = len(arr)\n",
    "    global contador\n",
    "    for i in range(n, -1, -1):\n",
    "        contador += 1\n",
    "        MaxHeapify(arr, n, i)\n",
    " \n",
    "    for i in range(n-1, 0, -1):\n",
    "        contador += 1\n",
    "        arr[i], arr[0] = arr[0], arr[i]   \n",
    "        MaxHeapify(arr, i, 0)\n",
    "\n",
    "    return contador"
   ]
  },
  {
   "cell_type": "code",
   "execution_count": 5,
   "metadata": {},
   "outputs": [],
   "source": [
    "def probarHeapSort(elementos):\n",
    "\tlista = []\n",
    "\tfor x in xrange(0,elementos):\n",
    "\t\tlista.append(random.randint(0,elementos*2))\n",
    "\t#print(str(elementos) + \" elementos\")\n",
    "\t#print(\"\\n\" + str(lista))\n",
    "\tprint(\"\\n\" + str(HeapSort(lista)) + \"\\n\")"
   ]
  },
  {
   "cell_type": "code",
   "execution_count": 9,
   "metadata": {},
   "outputs": [
    {
     "name": "stdout",
     "output_type": "stream",
     "text": [
      "\n",
      "600520\n",
      "\n"
     ]
    }
   ],
   "source": [
    "probarHeapSort(100000)"
   ]
  },
  {
   "cell_type": "code",
   "execution_count": 25,
   "metadata": {},
   "outputs": [],
   "source": [
    "contador = 0\n",
    "\n",
    "def MaxHeapifyGraf(arr, n, i):\n",
    "    global contador\n",
    "    largest = i  \n",
    "    l = 2 * i + 1     \n",
    "    r = 2 * i + 2     \n",
    "    \n",
    "    contador += 1\n",
    "    \n",
    "    if l < n and arr[i] < arr[l]:\n",
    "        largest = l\n",
    " \n",
    "    if r < n and arr[largest] < arr[r]:\n",
    "        largest = r\n",
    "\n",
    "    if largest != i:\n",
    "        arr[i],arr[largest] = arr[largest],arr[i]  \n",
    " \n",
    "        MaxHeapifyGraf(arr, n, largest)\n",
    " \n",
    "\n",
    "def HeapSortGraf(arr):\n",
    "    global contador\n",
    "    n = len(arr)\n",
    " \n",
    "    for i in range(n, -1, -1):\n",
    "        contador += 1\n",
    "        MaxHeapifyGraf(arr, n, i)\n",
    " \n",
    "    for i in range(n-1, 0, -1):\n",
    "        contador += 1\n",
    "        arr[i], arr[0] = arr[0], arr[i]   \n",
    "        MaxHeapifyGraf(arr, i, 0)\n",
    "\n",
    "    return contador"
   ]
  },
  {
   "cell_type": "code",
   "execution_count": 26,
   "metadata": {},
   "outputs": [],
   "source": [
    "def graficarPromedio(elementos):\n",
    "\tglobal contador\n",
    "\tlista = []\n",
    "\tx = []\n",
    "\typrom = []\n",
    "\tfor i in xrange(1, elementos+1):\n",
    "\t\tx.append(i)\n",
    "\t\tlista=[]\n",
    "\t\tfor j in xrange(1, i+1):\n",
    "\t\t\tlista.append(random.randint(-elementos*2,elementos*2))\n",
    "\t\tcontador = 0\n",
    "\t\typrom.append(HeapSortGraf(lista))\n",
    "\treturn (x, yprom)"
   ]
  },
  {
   "cell_type": "code",
   "execution_count": 27,
   "metadata": {},
   "outputs": [],
   "source": [
    "def graficarMejor(elementos):\n",
    "\tglobal contador\n",
    "\tlista = []\n",
    "\tx = []\n",
    "\tymejor = []\n",
    "\tfor i in xrange(1, elementos+1):\n",
    "\t\tx.append(i)\n",
    "\t\tlista=[]\n",
    "\t\tfor j in xrange(1, i+1):\n",
    "\t\t\tlista.append(random.randint(-elementos*2,elementos*2))\n",
    "\t\tcontador = 0\n",
    "\t\tlista.sort()\n",
    "\t\tymejor.append(HeapSortGraf(lista))\n",
    "\treturn (ymejor)"
   ]
  },
  {
   "cell_type": "code",
   "execution_count": 28,
   "metadata": {},
   "outputs": [],
   "source": [
    "def graficarPeor(elementos):\n",
    "\tglobal contador\n",
    "\tlista = []\n",
    "\tx = []\n",
    "\typeor = []\n",
    "\tfor i in xrange(1, elementos+1):\n",
    "\t\tx.append(i)\n",
    "\t\tlista=[]\n",
    "\t\tfor j in xrange(1, i+1):\n",
    "\t\t\tlista.append(random.randint(-elementos*2,elementos*2))\n",
    "\t\tcontador = 0\n",
    "\t\tlista.reverse()\n",
    "\t\typeor.append(HeapSortGraf(lista))\n",
    "\treturn (ypeor)"
   ]
  },
  {
   "cell_type": "code",
   "execution_count": 29,
   "metadata": {},
   "outputs": [
    {
     "name": "stdout",
     "output_type": "stream",
     "text": [
      "\n",
      "x: [1, 2, 3, 4, 5, 6, 7, 8, 9, 10, 11, 12, 13, 14, 15, 16, 17, 18, 19, 20, 21, 22, 23, 24, 25, 26, 27, 28, 29, 30, 31, 32, 33, 34, 35, 36, 37, 38, 39, 40, 41, 42, 43, 44, 45, 46, 47, 48, 49, 50, 51, 52, 53, 54, 55, 56, 57, 58, 59, 60, 61, 62, 63, 64, 65, 66, 67, 68, 69, 70, 71, 72, 73, 74, 75, 76, 77, 78, 79, 80, 81, 82, 83, 84, 85, 86, 87, 88, 89, 90, 91, 92, 93, 94, 95, 96, 97, 98, 99, 100]\n",
      "\n",
      "f(n): [4, 8, 12, 19, 27, 29, 38, 44, 50, 56, 66, 72, 78, 87, 92, 99, 108, 113, 127, 126, 145, 148, 153, 161, 173, 185, 193, 196, 198, 215, 221, 230, 245, 253, 253, 266, 271, 287, 298, 300, 315, 313, 333, 334, 353, 355, 364, 370, 387, 396, 408, 411, 421, 439, 444, 448, 467, 462, 482, 487, 495, 507, 513, 532, 539, 545, 538, 565, 551, 576, 586, 604, 617, 622, 635, 639, 661, 667, 672, 684, 690, 697, 703, 712, 728, 745, 747, 770, 765, 774, 779, 797, 813, 824, 825, 836, 868, 860, 863, 874]\n",
      "\n",
      "omicron: [4, 9, 12, 19, 25, 31, 38, 42, 49, 58, 61, 71, 83, 88, 91, 97, 104, 117, 125, 132, 141, 147, 155, 166, 174, 187, 187, 197, 204, 219, 220, 234, 241, 243, 252, 269, 278, 292, 287, 311, 305, 313, 325, 334, 357, 358, 370, 379, 385, 396, 401, 410, 426, 425, 432, 439, 453, 456, 477, 480, 490, 487, 510, 527, 525, 535, 541, 561, 567, 584, 594, 593, 613, 629, 622, 642, 653, 657, 671, 669, 692, 702, 720, 727, 744, 742, 751, 768, 772, 798, 790, 810, 812, 830, 825, 841, 864, 862, 876, 884]\n",
      "\n",
      "omega: [4, 9, 14, 21, 25, 33, 38, 47, 54, 61, 68, 77, 84, 91, 98, 107, 117, 125, 132, 142, 148, 159, 165, 175, 184, 193, 200, 209, 216, 228, 234, 243, 253, 265, 275, 281, 293, 302, 312, 324, 328, 341, 351, 361, 370, 381, 389, 399, 411, 420, 428, 438, 451, 460, 467, 478, 489, 498, 505, 516, 527, 534, 540, 558, 562, 576, 585, 598, 606, 621, 630, 639, 653, 664, 673, 680, 697, 706, 714, 730, 738, 745, 757, 768, 774, 791, 807, 810, 819, 830, 843, 847, 865, 877, 886, 895, 906, 919, 926, 937]\n"
     ]
    }
   ],
   "source": [
    "x = []\n",
    "fene = []\n",
    "omicron = []\n",
    "omega = []\n",
    "(x, fene) = graficarPromedio(100)\n",
    "(omega) = graficarMejor(100)\n",
    "(omicron) = graficarPeor(100)\n",
    "print(\"\\nx: \" + str(x) + \"\\n\\nf(n): \" + str(fene) + \"\\n\\nomicron: \" + str(omicron) + \"\\n\\nomega: \" + str(omega))"
   ]
  },
  {
   "cell_type": "code",
   "execution_count": 30,
   "metadata": {},
   "outputs": [
    {
     "data": {
      "image/png": "[encoded data removed]",
      "text/plain": [
       "<Figure size 432x288 with 1 Axes>"
      ]
     },
     "metadata": {},
     "output_type": "display_data"
    }
   ],
   "source": [
    "plt.plot( x, omicron, 'r', x, fene, 'g', x, omega, 'b')\n",
    "plt.show()"
   ]
  },
  {
   "cell_type": "code",
   "execution_count": null,
   "metadata": {},
   "outputs": [],
   "source": []
  }
 ],
 "metadata": {
  "kernelspec": {
   "display_name": "Python 3",
   "language": "python",
   "name": "python3"
  },
  "language_info": {
   "codemirror_mode": {
    "name": "ipython",
    "version": 2
   },
   "file_extension": ".py",
   "mimetype": "text/x-python",
   "name": "python",
   "nbconvert_exporter": "python",
   "pygments_lexer": "ipython2",
   "version": "2.7.15"
  }
 },
 "nbformat": 4,
 "nbformat_minor": 2
}
