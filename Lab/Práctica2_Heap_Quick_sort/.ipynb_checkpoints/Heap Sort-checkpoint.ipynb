{
 "cells": [
  {
   "cell_type": "code",
   "execution_count": 1,
   "metadata": {},
   "outputs": [],
   "source": [
    "import numpy as np\n",
    "import matplotlib.pyplot as plt \n",
    "from mpl_toolkits.mplot3d import Axes3D\n",
    "import random\n",
    "%matplotlib inline"
   ]
  },
  {
   "cell_type": "code",
   "execution_count": 2,
   "metadata": {},
   "outputs": [],
   "source": [
    "def MaxHeapify(arr, n, i):\n",
    "    largest = i  \n",
    "    l = 2 * i + 1     \n",
    "    r = 2 * i + 2     \n",
    " \n",
    "    if l < n and arr[i] < arr[l]:\n",
    "        largest = l\n",
    " \n",
    "    if r < n and arr[largest] < arr[r]:\n",
    "        largest = r\n",
    "\n",
    "    if largest != i:\n",
    "        arr[i],arr[largest] = arr[largest],arr[i]  \n",
    " \n",
    "        MaxHeapify(arr, n, largest) \n",
    "\n",
    "def HeapSort(arr):\n",
    "    n = len(arr)\n",
    " \n",
    "    for i in range(n, -1, -1):\n",
    "        MaxHeapify(arr, n, i)\n",
    " \n",
    "    for i in range(n-1, 0, -1):\n",
    "        arr[i], arr[0] = arr[0], arr[i]   \n",
    "        MaxHeapify(arr, i, 0)\n",
    "\n",
    "    return arr"
   ]
  },
  {
   "cell_type": "code",
   "execution_count": 3,
   "metadata": {},
   "outputs": [],
   "source": [
    "def probarHeapSort(elementos):\n",
    "\tlista = []\n",
    "\tfor x in xrange(0,elementos):\n",
    "\t\tlista.append(random.randint(0,elementos*2))\n",
    "\tprint(str(elementos) + \" elementos\")\n",
    "\tprint(\"\\n\" + str(lista))\n",
    "\tprint(\"\\n\" + str(HeapSort(lista)) + \"\\n\")"
   ]
  },
  {
   "cell_type": "code",
   "execution_count": 4,
   "metadata": {},
   "outputs": [
    {
     "name": "stdout",
     "output_type": "stream",
     "text": [
      "10 elementos\n",
      "\n",
      "[17, 8, 14, 14, 0, 20, 7, 14, 17, 5]\n",
      "\n",
      "[0, 5, 7, 8, 14, 14, 14, 17, 17, 20]\n",
      "\n",
      "50 elementos\n",
      "\n",
      "[92, 45, 38, 48, 9, 80, 63, 23, 94, 79, 23, 40, 13, 46, 68, 24, 5, 66, 86, 67, 71, 84, 49, 13, 42, 96, 27, 73, 12, 98, 70, 29, 36, 91, 63, 71, 63, 100, 35, 65, 86, 69, 62, 87, 43, 99, 47, 74, 86, 23]\n",
      "\n",
      "[5, 9, 12, 13, 13, 23, 23, 23, 24, 27, 29, 35, 36, 38, 40, 42, 43, 45, 46, 47, 48, 49, 62, 63, 63, 63, 65, 66, 67, 68, 69, 70, 71, 71, 73, 74, 79, 80, 84, 86, 86, 86, 87, 91, 92, 94, 96, 98, 99, 100]\n",
      "\n",
      "100 elementos\n",
      "\n",
      "[47, 135, 73, 175, 97, 14, 49, 178, 129, 112, 76, 60, 87, 49, 118, 63, 117, 66, 155, 108, 35, 54, 54, 89, 176, 141, 7, 84, 155, 92, 108, 152, 85, 126, 52, 154, 175, 105, 74, 135, 175, 59, 128, 12, 151, 142, 48, 182, 158, 82, 113, 44, 164, 142, 196, 196, 84, 15, 45, 19, 23, 119, 2, 164, 126, 176, 118, 16, 176, 12, 107, 77, 21, 105, 72, 184, 101, 195, 143, 194, 29, 132, 79, 194, 119, 143, 145, 63, 33, 31, 95, 155, 144, 56, 141, 143, 5, 41, 39, 115]\n",
      "\n",
      "[2, 5, 7, 12, 12, 14, 15, 16, 19, 21, 23, 29, 31, 33, 35, 39, 41, 44, 45, 47, 48, 49, 49, 52, 54, 54, 56, 59, 60, 63, 63, 66, 72, 73, 74, 76, 77, 79, 82, 84, 84, 85, 87, 89, 92, 95, 97, 101, 105, 105, 107, 108, 108, 112, 113, 115, 117, 118, 118, 119, 119, 126, 126, 128, 129, 132, 135, 135, 141, 141, 142, 142, 143, 143, 143, 144, 145, 151, 152, 154, 155, 155, 155, 158, 164, 164, 175, 175, 175, 176, 176, 176, 178, 182, 184, 194, 194, 195, 196, 196]\n",
      "\n"
     ]
    }
   ],
   "source": [
    "probarHeapSort(10)\n",
    "probarHeapSort(50)\n",
    "probarHeapSort(100)"
   ]
  },
  {
   "cell_type": "code",
   "execution_count": 49,
   "metadata": {},
   "outputs": [],
   "source": [
    "contador = 0\n",
    "\n",
    "def MaxHeapifyGraf(arr, n, i):\n",
    "    global contador\n",
    "    largest = i  \n",
    "    l = 2 * i + 1     \n",
    "    r = 2 * i + 2     \n",
    "    \n",
    "    contador += 1\n",
    "    \n",
    "    if l < n and arr[i] < arr[l]:\n",
    "        largest = l\n",
    " \n",
    "    if r < n and arr[largest] < arr[r]:\n",
    "        largest = r\n",
    "\n",
    "    if largest != i:\n",
    "        arr[i],arr[largest] = arr[largest],arr[i]  \n",
    " \n",
    "        MaxHeapifyGraf(arr, n, largest)\n",
    " \n",
    "\n",
    "def HeapSortGraf(arr):\n",
    "    global contador\n",
    "    n = len(arr)\n",
    " \n",
    "    for i in range(n, -1, -1):\n",
    "        contador += 1\n",
    "        MaxHeapifyGraf(arr, n, i)\n",
    " \n",
    "    for i in range(n-1, 0, -1):\n",
    "        contador += 1\n",
    "        arr[i], arr[0] = arr[0], arr[i]   \n",
    "        MaxHeapifyGraf(arr, i, 0)\n",
    "\n",
    "    return contador"
   ]
  },
  {
   "cell_type": "code",
   "execution_count": null,
   "metadata": {},
   "outputs": [],
   "source": [
    "def graficarPromedio(elementos):\n",
    "    x = []\n",
    "    yProm = []\n",
    "    lista = []\n",
    "    for i in xrange(1, elementos+1):\n",
    "        x.append(i)\n",
    "        lista = []\n",
    "        for j in xrange(1, i+1):\n",
    "            lista.append(random.randint(1,elementos*2))\n",
    "        contador = 0\n",
    "        yProm.append(HeapSortGraf(lista))\n",
    "        contador = 0\n",
    "        lista.sort()\n",
    "        yO.append(HeapSort(lista))\n",
    "        contador = 0\n",
    "        lista.reverse()\n",
    "        yOmega.append(HeapSort(lista))\n",
    "        contador = 0\n",
    "    return (x, yTheta, yO, yOmega)"
   ]
  },
  {
   "cell_type": "code",
   "execution_count": 50,
   "metadata": {},
   "outputs": [
    {
     "name": "stdout",
     "output_type": "stream",
     "text": [
      "\n",
      "x: [1, 2, 3, 4, 5, 6, 7, 8, 9, 10]\n",
      "\n",
      "yTheta: [2, 14, 56, 164, 387, 776, 1386, 2239, 3442, 5043]\n",
      "yO: [4, 25, 85, 232, 508, 971, 1671, 2631, 3975, 5734]\n",
      "yOmega: [6, 33, 106, 277, 590, 1104, 1873, 2933, 4382, 6257]\n"
     ]
    }
   ],
   "source": [
    "x = []\n",
    "yTheta = []\n",
    "yO = []\n",
    "yOmega = []\n",
    "(x, yTheta, yO, yOmega) = graficar(10)\n",
    "print(\"\\nx: \" + str(x) + \"\\n\\nyTheta: \" + str(yTheta) + \"\\nyO: \" + str(yO) + \"\\nyOmega: \" + str(yOmega))"
   ]
  },
  {
   "cell_type": "code",
   "execution_count": 51,
   "metadata": {},
   "outputs": [
    {
     "data": {
      "image/png": "[encoded data removed]",
      "text/plain": [
       "<Figure size 432x288 with 1 Axes>"
      ]
     },
     "metadata": {},
     "output_type": "display_data"
    }
   ],
   "source": [
    "plt.plot(x, yTheta, 'b', x, yO, 'g', x, yOmega, 'r')\n",
    "plt.show()"
   ]
  },
  {
   "cell_type": "code",
   "execution_count": null,
   "metadata": {},
   "outputs": [],
   "source": []
  }
 ],
 "metadata": {
  "kernelspec": {
   "display_name": "Python 3",
   "language": "python",
   "name": "python3"
  },
  "language_info": {
   "codemirror_mode": {
    "name": "ipython",
    "version": 2
   },
   "file_extension": ".py",
   "mimetype": "text/x-python",
   "name": "python",
   "nbconvert_exporter": "python",
   "pygments_lexer": "ipython2",
   "version": "2.7.15"
  }
 },
 "nbformat": 4,
 "nbformat_minor": 2
}
