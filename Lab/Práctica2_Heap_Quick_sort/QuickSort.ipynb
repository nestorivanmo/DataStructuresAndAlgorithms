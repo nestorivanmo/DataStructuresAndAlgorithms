{
 "cells": [
  {
   "cell_type": "code",
   "execution_count": 1,
   "metadata": {},
   "outputs": [],
   "source": [
    "import numpy as np\n",
    "import matplotlib.pyplot as plt \n",
    "from mpl_toolkits.mplot3d import Axes3D\n",
    "import random\n",
    "%matplotlib inline"
   ]
  },
  {
   "cell_type": "code",
   "execution_count": 2,
   "metadata": {},
   "outputs": [],
   "source": [
    "contador = 0\n",
    "def particionar(A,low,high):\n",
    "\tglobal contador    \n",
    "\tpivote = A[high]\n",
    "\ti = ( low - 1 )\n",
    "\tfor j in range(low, high):\n",
    "\t\tcontador += 1\n",
    "\t\tif A[j] <= pivote:\n",
    "\t\t\ti += 1\n",
    "\t\t\tA[i], A[j] = A[j], A[i]\n",
    "\tA[i+1], A[high] = A[high], A[i+1]\n",
    "\treturn (i + 1)\n",
    "\n",
    "def quickSort(A, p, r):\n",
    "\tglobal contador\n",
    "\tif p < r:\n",
    "\t\tq = particionar(A, p, r)\n",
    "\t\tquickSort(A, p, q-1)\n",
    "\t\tquickSort(A, q+1, r)\n",
    "\treturn contador"
   ]
  },
  {
   "cell_type": "code",
   "execution_count": 3,
   "metadata": {},
   "outputs": [],
   "source": [
    "def probarQuickSort(elementos):\n",
    "\tglobal contador\n",
    "\tlista = []\n",
    "\tfor x in xrange(0,elementos):\n",
    "\t\tlista.append(random.randint(0,elementos))       \n",
    "\tprint(quickSort(lista, 0,len(lista)-1))\t\n",
    "\tcontador = 0"
   ]
  },
  {
   "cell_type": "code",
   "execution_count": 4,
   "metadata": {},
   "outputs": [
    {
     "name": "stdout",
     "output_type": "stream",
     "text": [
      "\n",
      "Lista con 100000 elementos\n",
      "2035572\n",
      "\n",
      "\n"
     ]
    }
   ],
   "source": [
    "max = 100000\n",
    "print(\"\\nLista con \" + str(max) + \" elementos\")\n",
    "probarQuickSort(max)\n",
    "print(\"\\n\")"
   ]
  },
  {
   "cell_type": "code",
   "execution_count": 5,
   "metadata": {},
   "outputs": [],
   "source": [
    "contador = 0\n",
    "\n",
    "def particionarGraf(A,low,high):\n",
    "\tglobal contador\n",
    "\tpivote = A[high]\n",
    "\ti = ( low - 1 )\n",
    "\tfor j in range(low, high):\n",
    "\t\tcontador += 1\n",
    "\t\tif A[j] <= pivote:\n",
    "\t\t\ti += 1\n",
    "\t\t\tA[i], A[j] = A[j], A[i]\n",
    "\tA[i+1], A[high] = A[high], A[i+1]\n",
    "\treturn (i + 1)\n",
    "\n",
    "def quickSortGraf(A, p, r):\n",
    "\tglobal contador\n",
    "\tif p < r:\n",
    "\t\tcontador += 1\n",
    "\t\tq = particionarGraf(A, p, r)\n",
    "\t\tquickSortGraf(A, p, q-1)\n",
    "\t\tquickSortGraf(A, q+1, r)\n",
    "\treturn contador"
   ]
  },
  {
   "cell_type": "code",
   "execution_count": 6,
   "metadata": {},
   "outputs": [],
   "source": [
    "def graficarPeor(elementos):\n",
    "    lista = []\n",
    "    ypeor = []\n",
    "    global contador\n",
    "    contador = 0\n",
    "    for i in range(1, elementos+1):\n",
    "        lista = [x for x in range(0,i+1)]\n",
    "        lista.reverse()\n",
    "        ypeor.append(quickSortGraf(lista, 0, len(lista)-1))\n",
    "        contador = 0\n",
    "    return ypeor"
   ]
  },
  {
   "cell_type": "code",
   "execution_count": 7,
   "metadata": {},
   "outputs": [],
   "source": [
    "def graficarPromedio(elementos):\n",
    "\tglobal contador\n",
    "\tlista = []\n",
    "\tx = []\n",
    "\typrom = []\n",
    "\tfor i in xrange(1, elementos+1):\n",
    "\t\tx.append(i)\n",
    "\t\tlista=[]\n",
    "\t\tfor j in xrange(1, i+1):\n",
    "\t\t\tlista.append(random.randint(0,elementos*2))\n",
    "\t\tcontador = 0\n",
    "\t\typrom.append(quickSortGraf(lista, 0, len(lista)-1))\n",
    "\treturn (x, yprom)"
   ]
  },
  {
   "cell_type": "code",
   "execution_count": 8,
   "metadata": {},
   "outputs": [],
   "source": [
    "def graficarMejor(elementos):\n",
    "\tglobal contador\n",
    "\tlista = []\n",
    "\tx = []\n",
    "\tymejor = []\n",
    "\tfor i in xrange(1, elementos+1):\n",
    "\t\tx.append(i)\n",
    "\t\tlista=[]\n",
    "\t\tfor j in xrange(1, i+1):\n",
    "\t\t\tlista.append(random.randint(0,elementos*2))\n",
    "\t\tcontador = 0\n",
    "\t\tlista.sort()\n",
    "\t\tymejor.append(quickSortGraf(lista, 0, len(lista)-1))\n",
    "\treturn (x, ymejor)"
   ]
  },
  {
   "cell_type": "code",
   "execution_count": null,
   "metadata": {},
   "outputs": [],
   "source": [
    "x = []\n",
    "fene = []\n",
    "omicron = []\n",
    "omega = []\n",
    "#(omicron) = graficarPeor(100)\n",
    "#(x, fene) = graficarPromedio(100)\n",
    "(x, omega) = graficarMejor(10000)\n",
    "#print(\"\\nx: \" + str(x) + \"\\n\\nf(n): \" + str(fene) + \"\\n\\nomicron: \" + str(omicron) + \"\\n\\nomega: \" + str(omega))"
   ]
  },
  {
   "cell_type": "code",
   "execution_count": 123,
   "metadata": {},
   "outputs": [
    {
     "data": {
      "image/png": "[encoded data removed]",
      "text/plain": [
       "<Figure size 432x288 with 1 Axes>"
      ]
     },
     "metadata": {},
     "output_type": "display_data"
    }
   ],
   "source": [
    "plt.plot( x, omega, 'r')\n",
    "plt.show()"
   ]
  },
  {
   "cell_type": "code",
   "execution_count": null,
   "metadata": {},
   "outputs": [],
   "source": []
  },
  {
   "cell_type": "code",
   "execution_count": null,
   "metadata": {},
   "outputs": [],
   "source": []
  }
 ],
 "metadata": {
  "kernelspec": {
   "display_name": "Python 3",
   "language": "python",
   "name": "python3"
  },
  "language_info": {
   "codemirror_mode": {
    "name": "ipython",
    "version": 2
   },
   "file_extension": ".py",
   "mimetype": "text/x-python",
   "name": "python",
   "nbconvert_exporter": "python",
   "pygments_lexer": "ipython2",
   "version": "2.7.15"
  }
 },
 "nbformat": 4,
 "nbformat_minor": 2
}
