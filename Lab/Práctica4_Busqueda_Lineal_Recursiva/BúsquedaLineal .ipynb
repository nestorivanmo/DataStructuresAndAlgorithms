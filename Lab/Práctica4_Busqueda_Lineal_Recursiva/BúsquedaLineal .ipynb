{
 "cells": [
  {
   "cell_type": "code",
   "execution_count": 11,
   "metadata": {},
   "outputs": [],
   "source": [
    "import numpy as np\n",
    "import matplotlib.pyplot as plt \n",
    "from mpl_toolkits.mplot3d import Axes3D\n",
    "import random\n",
    "%matplotlib inline\n",
    "import math\n",
    "from Node import *"
   ]
  },
  {
   "cell_type": "code",
   "execution_count": 12,
   "metadata": {},
   "outputs": [],
   "source": [
    "counter = 0\n",
    "def linearSearchImproved(listOfItems, city):\n",
    "\tglobal counter \n",
    "\tfoundElement = -1\n",
    "\tfor k in range(len(listOfItems)):\n",
    "\t\tcounter += 1\n",
    "\t\tif listOfItems[k].city == city:\n",
    "\t\t\tfoundElement = k\n",
    "\t\t\tbreak\n",
    "\treturn foundElement + 1"
   ]
  },
  {
   "cell_type": "code",
   "execution_count": 13,
   "metadata": {},
   "outputs": [
    {
     "name": "stdout",
     "output_type": "stream",
     "text": [
      "1, Malie\n",
      "2, Fresno\n",
      "3, Aguachica\n",
      "4, Yambrasbamba\n",
      "5, Chengnan\n",
      "6, Jakarata\n",
      "7, Jaquimeyes\n",
      "8, Santa Cruz\n",
      "9, Torre\n",
      "10, Duraznopampa\n"
     ]
    }
   ],
   "source": [
    "listOfItems = readFromFile()\n",
    "printList(listOfItems)"
   ]
  },
  {
   "cell_type": "code",
   "execution_count": 14,
   "metadata": {},
   "outputs": [
    {
     "name": "stdout",
     "output_type": "stream",
     "text": [
      "Searching for 'Kastsyukovichy'...found at place # 0 with a time of 10\n",
      "Searching for 'Ojo de Agua'...found at place # 0 with a time of 10\n",
      "Searching for 'Créteil'...found at place # 0 with a time of 10\n"
     ]
    }
   ],
   "source": [
    "# Best case -> search for \"Kastsyukovichy\"\n",
    "print(\"Searching for 'Kastsyukovichy'...found at place # \" + str(linearSearchImproved(listOfItems, \"Kastsyukovichy\")) + \" with a time of \" + str(counter))\n",
    "counter = 0\n",
    "# Average case -> search for anything in between -> \"Ojo de Agua\" -> 212\n",
    "print(\"Searching for 'Ojo de Agua'...found at place # \" + str(linearSearchImproved(listOfItems, \"Ojo de Agua\")) + \" with a time of \" + str(counter))\n",
    "counter = 0\n",
    "# Worst case -> search for \"Créteil\"\n",
    "print(\"Searching for 'Créteil'...found at place # \" + str(linearSearchImproved(listOfItems, \"Créteil\")) + \" with a time of \" + str(counter) )\n",
    "counter = 0"
   ]
  },
  {
   "cell_type": "code",
   "execution_count": 27,
   "metadata": {},
   "outputs": [
    {
     "name": "stdout",
     "output_type": "stream",
     "text": [
      "[1, 1, 1, 1, 1, 1, 1, 1, 1, 1]\n"
     ]
    },
    {
     "data": {
      "image/png": "[encoded data removed]",
      "text/plain": [
       "<Figure size 432x288 with 1 Axes>"
      ]
     },
     "metadata": {},
     "output_type": "display_data"
    }
   ],
   "source": [
    "# Best Case \n",
    "x = []\n",
    "yBest = []\n",
    "listToIterate = []\n",
    "for i in range(len(listOfItems)):\n",
    "\tcounter = 0\n",
    "\tx.append(i+1)\n",
    "\tlistToIterate = listOfItems[:i+1]\n",
    "\tcity = listToIterate[0].city\n",
    "\tlinearSearchImproved(listToIterate, city)\n",
    "\tyBest.append(counter)\n",
    "print(yBest)\n",
    "\n",
    "plt.plot( x, yBest, 'r')\n",
    "plt.show()\n"
   ]
  },
  {
   "cell_type": "code",
   "execution_count": 16,
   "metadata": {},
   "outputs": [
    {
     "name": "stdout",
     "output_type": "stream",
     "text": [
      "[1, 2, 3, 1, 4, 5, 4, 1, 4, 3]\n"
     ]
    },
    {
     "data": {
      "image/png": "[encoded data removed]",
      "text/plain": [
       "<Figure size 432x288 with 1 Axes>"
      ]
     },
     "metadata": {},
     "output_type": "display_data"
    }
   ],
   "source": [
    "# Average Case \n",
    "yAverage = []\n",
    "listToIterate = []\n",
    "for i in range(len(listOfItems)):\n",
    "\tcounter = 0\n",
    "\tlistToIterate = listOfItems[:i+1]\n",
    "\trandomElement = random.randint(0,len(listToIterate)-1)\n",
    "\tcity = listToIterate[randomElement].city\n",
    "\tlinearSearchImproved(listToIterate, city)\n",
    "\tyAverage.append(counter)\n",
    "print(yAverage)\n",
    "\n",
    "plt.plot( x, yAverage, 'r')\n",
    "plt.show()"
   ]
  },
  {
   "cell_type": "code",
   "execution_count": 18,
   "metadata": {},
   "outputs": [
    {
     "name": "stdout",
     "output_type": "stream",
     "text": [
      "[1, 2, 3, 4, 5, 6, 7, 8, 9, 10]\n"
     ]
    },
    {
     "data": {
      "image/png": "[encoded data removed]",
      "text/plain": [
       "<Figure size 432x288 with 1 Axes>"
      ]
     },
     "metadata": {},
     "output_type": "display_data"
    }
   ],
   "source": [
    "# Worst Case \n",
    "ids = []\n",
    "yWorst = []\n",
    "listToIterate = []\n",
    "for i in range(len(listOfItems)):\n",
    "    counter = 0\n",
    "    listToIterate = listOfItems[:i+1]\n",
    "    city = listToIterate[len(listToIterate)-1].city\n",
    "    linearSearchImproved(listToIterate, city)\n",
    "    yWorst.append(counter)\n",
    "print(yWorst)\n",
    "plt.plot( x, yWorst, 'r')\n",
    "plt.show()"
   ]
  },
  {
   "cell_type": "code",
   "execution_count": 37,
   "metadata": {},
   "outputs": [],
   "source": [
    "#Búsqueda Lineal Recursiva "
   ]
  },
  {
   "cell_type": "code",
   "execution_count": 19,
   "metadata": {},
   "outputs": [],
   "source": [
    "counter = 0\n",
    "def linearSearchRecursive(listOfItems, city, k):\n",
    "\tglobal counter\n",
    "\tif k > len(listOfItems):\n",
    "\t\treturn -1\n",
    "\tif listOfItems[k].city == city:\n",
    "\t\treturn k\n",
    "\tcounter += 1\n",
    "\treturn linearSearchRecursive(listOfItems, city, k+1)\n",
    "\n"
   ]
  },
  {
   "cell_type": "code",
   "execution_count": 20,
   "metadata": {},
   "outputs": [
    {
     "name": "stdout",
     "output_type": "stream",
     "text": [
      "1, Malie\n",
      "2, Fresno\n",
      "3, Aguachica\n",
      "4, Yambrasbamba\n",
      "5, Chengnan\n",
      "6, Jakarata\n",
      "7, Jaquimeyes\n",
      "8, Santa Cruz\n",
      "9, Torre\n",
      "10, Duraznopampa\n"
     ]
    }
   ],
   "source": [
    "listOfItems = readFromFile()\n",
    "printList(listOfItems)"
   ]
  },
  {
   "cell_type": "code",
   "execution_count": 21,
   "metadata": {},
   "outputs": [
    {
     "name": "stdout",
     "output_type": "stream",
     "text": [
      "searching for 'Malie'\n",
      "Found at place number: 0 with a time of 0\n",
      "searching for anything in between -> 'Jakarata'\n",
      "Found at place number: 5 with a time of 5\n",
      "searching for 'Duraznopampa'\n",
      "Found at place number: 9 with a time of 9\n"
     ]
    }
   ],
   "source": [
    "# Best case -> \n",
    "print(\"searching for 'Malie'\")\n",
    "print(\"Found at place number: \" + str(linearSearchRecursive(listOfItems, \"Malie\", 0)) + \" with a time of \" + str(counter))\n",
    "counter = 0\n",
    "# Average case -> \n",
    "print(\"searching for anything in between -> 'Jakarata'\")\n",
    "print(\"Found at place number: \" + str(linearSearchRecursive(listOfItems, \"Jakarata\", 0)) + \" with a time of \" + str(counter))\n",
    "counter = 0\n",
    "# Worst case -> \n",
    "print(\"searching for 'Duraznopampa'\")\n",
    "print(\"Found at place number: \" + str(linearSearchRecursive(listOfItems, \"Duraznopampa\", 0)) + \" with a time of \" + str(counter) )\n",
    "counter = 0"
   ]
  },
  {
   "cell_type": "code",
   "execution_count": 22,
   "metadata": {},
   "outputs": [
    {
     "name": "stdout",
     "output_type": "stream",
     "text": [
      "[1, 1, 1, 1, 1, 1, 1, 1, 1, 1]\n"
     ]
    },
    {
     "data": {
      "image/png": "[encoded data removed]",
      "text/plain": [
       "<Figure size 432x288 with 1 Axes>"
      ]
     },
     "metadata": {},
     "output_type": "display_data"
    }
   ],
   "source": [
    "# Best case \n",
    "x = []\n",
    "yBest = []\n",
    "listToIterate = []\n",
    "for i in range(len(listOfItems)):\n",
    "\tcounter = 0\n",
    "\tx.append(i+1)\n",
    "\tlistToIterate = listOfItems[:i+1]\n",
    "\tcity = listToIterate[0].city\n",
    "\tlinearSearchRecursive(listToIterate, city, 0) \n",
    "\tyBest.append(counter + 1)\n",
    "print(yBest)\n",
    "plt.plot( x, yBest, 'r')\n",
    "plt.show()"
   ]
  },
  {
   "cell_type": "code",
   "execution_count": 23,
   "metadata": {},
   "outputs": [
    {
     "name": "stdout",
     "output_type": "stream",
     "text": [
      "[1, 1, 3, 4, 2, 4, 7, 2, 4, 2]\n"
     ]
    },
    {
     "data": {
      "image/png": "[encoded data removed]",
      "text/plain": [
       "<Figure size 432x288 with 1 Axes>"
      ]
     },
     "metadata": {},
     "output_type": "display_data"
    }
   ],
   "source": [
    "# Average Case \n",
    "yAverage = []\n",
    "listToIterate = []\n",
    "for i in range(len(listOfItems)):\n",
    "\tcounter = 0\n",
    "\tlistToIterate = listOfItems[:i+1]\n",
    "\trandomElement = random.randint(0,len(listToIterate)-1)\n",
    "\tcity = listToIterate[randomElement].city\n",
    "\tlinearSearchRecursive(listToIterate,city, 0) \n",
    "\tyAverage.append(counter + 1)\n",
    "print(yAverage)\n",
    "\n",
    "plt.plot( x, yAverage, 'r')\n",
    "plt.show()"
   ]
  },
  {
   "cell_type": "code",
   "execution_count": 24,
   "metadata": {},
   "outputs": [
    {
     "name": "stdout",
     "output_type": "stream",
     "text": [
      "[1, 2, 3, 4, 5, 6, 7, 8, 9, 10]\n"
     ]
    },
    {
     "data": {
      "image/png": "[encoded data removed]",
      "text/plain": [
       "<Figure size 432x288 with 1 Axes>"
      ]
     },
     "metadata": {},
     "output_type": "display_data"
    }
   ],
   "source": [
    "# Worst Case \n",
    "yWorst = []\n",
    "listToIterate = []\n",
    "for i in range(len(listOfItems)):\n",
    "\tcounter = 0\n",
    "\tlistToIterate = listOfItems[:i+1]\n",
    "\tcity = listToIterate[len(listToIterate)-1].city\n",
    "\tlinearSearchRecursive(listToIterate, city, 0) \n",
    "\tyWorst.append(counter + 1)\n",
    "print(yWorst)\n",
    "\n",
    "plt.plot( x, yWorst, 'r')\n",
    "plt.show()"
   ]
  },
  {
   "cell_type": "code",
   "execution_count": null,
   "metadata": {},
   "outputs": [],
   "source": []
  }
 ],
 "metadata": {
  "kernelspec": {
   "display_name": "Python 3",
   "language": "python",
   "name": "python3"
  },
  "language_info": {
   "codemirror_mode": {
    "name": "ipython",
    "version": 2
   },
   "file_extension": ".py",
   "mimetype": "text/x-python",
   "name": "python",
   "nbconvert_exporter": "python",
   "pygments_lexer": "ipython2",
   "version": "2.7.15"
  }
 },
 "nbformat": 4,
 "nbformat_minor": 2
}
