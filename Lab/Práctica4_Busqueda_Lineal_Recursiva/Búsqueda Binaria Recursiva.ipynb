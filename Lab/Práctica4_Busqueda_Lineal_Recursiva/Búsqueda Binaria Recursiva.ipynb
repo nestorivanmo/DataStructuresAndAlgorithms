{
 "cells": [
  {
   "cell_type": "code",
   "execution_count": 1,
   "metadata": {},
   "outputs": [],
   "source": [
    "import numpy as np\n",
    "import matplotlib.pyplot as plt \n",
    "from mpl_toolkits.mplot3d import Axes3D\n",
    "import random\n",
    "%matplotlib inline\n",
    "import math\n",
    "from Node import *"
   ]
  },
  {
   "cell_type": "code",
   "execution_count": 2,
   "metadata": {},
   "outputs": [],
   "source": [
    "counter = 0\n",
    "counterForSortingAlgorithms = 0\n",
    "\n",
    "def binarySearchRecursive(listOfItems, city, leftIndex, rightIndex):\n",
    "\tglobal counter\n",
    "\tcounter += 1\n",
    "\tif leftIndex > rightIndex:\n",
    "\t\treturn -1 \n",
    "\tmidIndex = math.floor((leftIndex + rightIndex) / 2)\n",
    "\tmidIndex = int(midIndex)\n",
    "\tif listOfItems[midIndex].city == city:\n",
    "\t\treturn midIndex\n",
    "\telif listOfItems[midIndex].city < city:\n",
    "\t\treturn binarySearchRecursive(listOfItems, city, midIndex+1, rightIndex)\n",
    "\telse:\n",
    "\t\treturn binarySearchRecursive(listOfItems, city, leftIndex, midIndex-1)"
   ]
  },
  {
   "cell_type": "code",
   "execution_count": 3,
   "metadata": {},
   "outputs": [],
   "source": [
    "def bubble_sort(a):\n",
    "\tglobal counterForSortingAlgorithms\n",
    "\tinterchange = 1\n",
    "\ti = 0\n",
    "\tj = 0\n",
    "\tn = len(a)\n",
    "\twhile i < n-1 and interchange == 1: \n",
    "\t\tcounterForSortingAlgorithms += 1\n",
    "\t\tinterchange = 0\n",
    "\t\tfor j in xrange(n-i-1):\n",
    "\t\t\tcounterForSortingAlgorithms += 1\n",
    "\t\t\tif a[j].city > a[j + 1].city:\n",
    "\t\t\t\tinterchange = 1\n",
    "\t\t\t\ta[j].city, a[j+1].city = a[j+1].city, a[j].city\n",
    "\t\ti += 1\n",
    "\treturn a"
   ]
  },
  {
   "cell_type": "code",
   "execution_count": 4,
   "metadata": {},
   "outputs": [],
   "source": [
    "def Merge(A, p, q, r):\n",
    "\tglobal counterForSortingAlgorithms\n",
    "\tarrIzq = A[p:q+1]\n",
    "\tarrDer = A[q+1:r+1]\n",
    "\tizq = 0\n",
    "\tder = 0\n",
    "\tfor k in xrange(p,r+1):\n",
    "\t\tif (der >= len(arrDer)) or (izq < len(arrIzq) and arrIzq[izq].city < arrDer[der].city):\n",
    "\t\t\tA[k] = arrIzq[izq]\n",
    "\t\t\tizq += 1\n",
    "\t\t\tcounterForSortingAlgorithms += 1\n",
    "\t\telse:\n",
    "\t\t\tA[k] = arrDer[der]\n",
    "\t\t\tder += 1\n",
    "\t\t\tcounterForSortingAlgorithms += 1"
   ]
  },
  {
   "cell_type": "code",
   "execution_count": 5,
   "metadata": {},
   "outputs": [],
   "source": [
    "def MergeSort(A, p, r):\n",
    "\tglobal counterForSortingAlgorithms\n",
    "\tif p >= r:\n",
    "\t\tcounterForSortingAlgorithms += 1\n",
    "\t\treturn\n",
    "\telse:\n",
    "\t\tcounterForSortingAlgorithms += 1\n",
    "\t\tq = (p + r ) / 2\n",
    "\t\tMergeSort(A, p, q)\n",
    "\t\tMergeSort(A, q + 1, r)\n",
    "\t\tMerge(A, p, q, r)\n",
    "\treturn A"
   ]
  },
  {
   "cell_type": "code",
   "execution_count": 6,
   "metadata": {},
   "outputs": [
    {
     "name": "stdout",
     "output_type": "stream",
     "text": [
      "1, Malie\n",
      "2, Fresno\n",
      "3, Aguachica\n",
      "4, Yambrasbamba\n",
      "5, Chengnan\n",
      "6, Jakarata\n",
      "7, Jaquimeyes\n",
      "8, Santa Cruz\n",
      "9, Torre\n",
      "10, Duraznopampa\n"
     ]
    }
   ],
   "source": [
    "#Bubble Sort\n",
    "\n",
    "listOfItems = readFromFile()\n",
    "printList(listOfItems)\n"
   ]
  },
  {
   "cell_type": "code",
   "execution_count": 7,
   "metadata": {},
   "outputs": [
    {
     "name": "stdout",
     "output_type": "stream",
     "text": [
      "Now sorted: \n",
      "1, Aguachica\n",
      "2, Chengnan\n",
      "3, Duraznopampa\n",
      "4, Fresno\n",
      "5, Jakarata\n",
      "6, Jaquimeyes\n",
      "7, Malie\n",
      "8, Santa Cruz\n",
      "9, Torre\n",
      "10, Yambrasbamba\n"
     ]
    }
   ],
   "source": [
    "\n",
    "counterForSortingAlgorithms = 0\n",
    "listOfItems = bubble_sort(listOfItems)\n",
    "print(\"Now sorted: \")\n",
    "printList(listOfItems)\n"
   ]
  },
  {
   "cell_type": "code",
   "execution_count": 9,
   "metadata": {},
   "outputs": [
    {
     "name": "stdout",
     "output_type": "stream",
     "text": [
      "Binary Search with Bubble Sort\n",
      "\tLooking for 'Jaquimeyes'\n",
      "\tFound at: 4 with a time of: 53\n",
      "\tLooking for 'Mexico City'\n",
      "\tFound at: -1 with a time of: 57\n"
     ]
    }
   ],
   "source": [
    "\n",
    "counter = 0\n",
    "print(\"Binary Search with Bubble Sort\")\n",
    "print(\"\\tLooking for 'Jaquimeyes'\")\n",
    "print(\"\\tFound at: \" + str(binarySearchRecursive(listOfItems, 'Jaquimeyes', 0, len(listOfItems)-1)) + \" with a time of: \" + str(counter + counterForSortingAlgorithms))\n",
    "counter = 0\n",
    "print(\"\\tLooking for 'Mexico City'\")\n",
    "print(\"\\tFound at: \" + str(binarySearchRecursive(listOfItems, 'Mexico City', 0, len(listOfItems)-1)) + \" with a time of: \" + str(counter + counterForSortingAlgorithms))"
   ]
  },
  {
   "cell_type": "code",
   "execution_count": 8,
   "metadata": {},
   "outputs": [
    {
     "name": "stdout",
     "output_type": "stream",
     "text": [
      "Binary Search Best Case\n",
      "[11, 11, 11, 11, 11, 11, 11, 11, 11, 11]\n"
     ]
    },
    {
     "data": {
      "image/png": "[encoded data removed]",
      "text/plain": [
       "<Figure size 432x288 with 1 Axes>"
      ]
     },
     "metadata": {},
     "output_type": "display_data"
    }
   ],
   "source": [
    "#Binary Search Best Case \n",
    "\t# BubbleSort Best Case \n",
    "print(\"Binary Search Best Case\")\n",
    "#print(\"Bubble Sort Best Case\")\n",
    "listOfItems = readFromFile()\n",
    "listOfItems = bubble_sort(listOfItems)\n",
    "counterForSortingAlgorithms = 0\n",
    "listOfItems = bubble_sort(listOfItems)\n",
    "x = []\n",
    "yBest = []\n",
    "listToIterate = []\n",
    "for i in range(len(listOfItems)):\n",
    "\tcounter = 0\n",
    "\tx.append(i+1)\n",
    "\tlistToIterate = listOfItems[:i+1]\n",
    "\tmid = math.floor((0 + (len(listToIterate)-1)) / 2)\n",
    "\tcity = listToIterate[int(mid)].city\n",
    "\tbinarySearchRecursive(listToIterate, city, 0, len(listToIterate)-1)\n",
    "\tyBest.append(counterForSortingAlgorithms + counter)\n",
    "print(yBest)\n",
    "\n",
    "plt.plot( x, yBest, 'r')\n",
    "plt.show()"
   ]
  },
  {
   "cell_type": "code",
   "execution_count": 9,
   "metadata": {},
   "outputs": [
    {
     "name": "stdout",
     "output_type": "stream",
     "text": [
      "[53, 53, 53, 53, 53, 53, 53, 53, 53, 53]\n"
     ]
    },
    {
     "data": {
      "image/png": "[encoded data removed]",
      "text/plain": [
       "<Figure size 432x288 with 1 Axes>"
      ]
     },
     "metadata": {},
     "output_type": "display_data"
    }
   ],
   "source": [
    "# BubbleSort Average Case \n",
    "#print(\"Bubble Sort Average Case\")\n",
    "counterForSortingAlgorithms = 0\n",
    "listOfItems = readFromFile()\n",
    "listOfItems = bubble_sort(listOfItems)\n",
    "yAverage = []\n",
    "listToIterate = []\n",
    "for i in range(len(listOfItems)):\n",
    "\tcounter = 0\n",
    "\tlistToIterate = listOfItems[:i+1]\n",
    "\tmid = math.floor((0 + (len(listToIterate)-1)) / 2)\n",
    "\tcity = listToIterate[int(mid)].city\n",
    "\tbinarySearchRecursive(listToIterate, city, 0, len(listToIterate)-1)\n",
    "\tyAverage.append(counterForSortingAlgorithms + counter)\n",
    "print(yAverage)\n",
    "plt.plot( x, yAverage, 'r')\n",
    "plt.show()"
   ]
  },
  {
   "cell_type": "code",
   "execution_count": 10,
   "metadata": {},
   "outputs": [
    {
     "name": "stdout",
     "output_type": "stream",
     "text": [
      "[53, 53, 53, 53, 53, 53, 53, 53, 53, 53]\n"
     ]
    },
    {
     "data": {
      "image/png": "[encoded data removed]",
      "text/plain": [
       "<Figure size 432x288 with 1 Axes>"
      ]
     },
     "metadata": {},
     "output_type": "display_data"
    }
   ],
   "source": [
    "# BubbleSort Worst Case\n",
    "#print(\"Bubble Sort Worst Case\") \n",
    "counterForSortingAlgorithms = 0\n",
    "listOfItems = readFromFile()\n",
    "listOfItems.reverse()\n",
    "listOfItems = bubble_sort(listOfItems)\n",
    "yWorst = []\n",
    "listToIterate = []\n",
    "for i in range(len(listOfItems)):\n",
    "\tcounter = 0\n",
    "\tlistToIterate = listOfItems[:i+1]\n",
    "\tmid = math.floor((0 + (len(listToIterate)-1)) / 2)\n",
    "\tcity = listToIterate[int(mid)].city\n",
    "\tbinarySearchRecursive(listToIterate, city, 0, len(listToIterate)-1)\n",
    "\tyWorst.append(counterForSortingAlgorithms + counter)\n",
    "print(yWorst)\n",
    "plt.plot( x, yWorst, 'r')\n",
    "plt.show()"
   ]
  },
  {
   "cell_type": "code",
   "execution_count": 12,
   "metadata": {},
   "outputs": [
    {
     "name": "stdout",
     "output_type": "stream",
     "text": [
      "Binary Search Average Case\n",
      "[11, 12, 11, 12, 12, 12, 13, 11, 13, 12]\n"
     ]
    },
    {
     "data": {
      "image/png": "[encoded data removed]",
      "text/plain": [
       "<Figure size 432x288 with 1 Axes>"
      ]
     },
     "metadata": {},
     "output_type": "display_data"
    }
   ],
   "source": [
    "#Binary Search Average Case \n",
    "\t# BubbleSort Best Case \n",
    "print(\"Binary Search Average Case\")\n",
    "#print(\"Bubble Sort Best Case\")\n",
    "listOfItems = readFromFile()\n",
    "listOfItems = bubble_sort(listOfItems)\n",
    "counterForSortingAlgorithms = 0\n",
    "listOfItems = bubble_sort(listOfItems)\n",
    "x = []\n",
    "yBest = []\n",
    "listToIterate = []\n",
    "for i in range(len(listOfItems)):\n",
    "\tcounter = 0\n",
    "\tx.append(i+1)\n",
    "\tlistToIterate = listOfItems[:i+1]\n",
    "\trandomElement = random.randint(0,len(listToIterate)-1)\n",
    "\tcity = listToIterate[randomElement].city\n",
    "\tbinarySearchRecursive(listToIterate, city, 0, len(listToIterate)-1)\n",
    "\tyBest.append(counterForSortingAlgorithms + counter)\n",
    "print(yBest)\n",
    "plt.plot( x, yBest, 'r')\n",
    "plt.show()"
   ]
  },
  {
   "cell_type": "code",
   "execution_count": 14,
   "metadata": {},
   "outputs": [
    {
     "name": "stdout",
     "output_type": "stream",
     "text": [
      "[53, 53, 54, 53, 54, 55, 53, 53, 55, 54]\n"
     ]
    },
    {
     "data": {
      "image/png": "[encoded data removed]",
      "text/plain": [
       "<Figure size 432x288 with 1 Axes>"
      ]
     },
     "metadata": {},
     "output_type": "display_data"
    }
   ],
   "source": [
    "# BubbleSort Average Case\n",
    "#print(\"Bubble Sort Average Case\")\n",
    "counterForSortingAlgorithms = 0\n",
    "listOfItems = readFromFile()\n",
    "listOfItems = bubble_sort(listOfItems)\n",
    "yAverage = []\n",
    "listToIterate = []\n",
    "for i in range(len(listOfItems)):\n",
    "\tcounter = 0\n",
    "\tlistToIterate = listOfItems[:i+1]\n",
    "\trandomElement = random.randint(0,len(listToIterate)-1)\n",
    "\tcity = listToIterate[randomElement].city\n",
    "\tbinarySearchRecursive(listToIterate, city, 0, len(listToIterate)-1)\n",
    "\tyAverage.append(counterForSortingAlgorithms + counter)\n",
    "print(yAverage) \n",
    "plt.plot( x, yAverage, 'r')\n",
    "plt.show()"
   ]
  },
  {
   "cell_type": "code",
   "execution_count": 15,
   "metadata": {},
   "outputs": [
    {
     "name": "stdout",
     "output_type": "stream",
     "text": [
      "[53, 54, 54, 55, 53, 55, 54, 55, 53, 56]\n"
     ]
    },
    {
     "data": {
      "image/png": "[encoded data removed]",
      "text/plain": [
       "<Figure size 432x288 with 1 Axes>"
      ]
     },
     "metadata": {},
     "output_type": "display_data"
    }
   ],
   "source": [
    "# BubbleSort Worst Case \n",
    "#print(\"Bubble Sort Worst Case\")\n",
    "counterForSortingAlgorithms = 0\n",
    "listOfItems = readFromFile()\n",
    "listOfItems.reverse()\n",
    "listOfItems = bubble_sort(listOfItems)\n",
    "yWorst = []\n",
    "listToIterate = []\n",
    "for i in range(len(listOfItems)):\n",
    "\tcounter = 0\n",
    "\tlistToIterate = listOfItems[:i+1]\n",
    "\trandomElement = random.randint(0,len(listToIterate)-1)\n",
    "\tcity = listToIterate[randomElement].city\n",
    "\tbinarySearchRecursive(listToIterate, city, 0, len(listToIterate)-1)\n",
    "\tyWorst.append(counterForSortingAlgorithms + counter)\n",
    "print(yWorst)\n",
    "plt.plot( x, yWorst, 'r')\n",
    "plt.show()"
   ]
  },
  {
   "cell_type": "code",
   "execution_count": 16,
   "metadata": {},
   "outputs": [
    {
     "name": "stdout",
     "output_type": "stream",
     "text": [
      "[12, 13, 13, 14, 14, 14, 14, 15, 15, 15]\n"
     ]
    },
    {
     "data": {
      "image/png": "[encoded data removed]",
      "text/plain": [
       "<Figure size 432x288 with 1 Axes>"
      ]
     },
     "metadata": {},
     "output_type": "display_data"
    }
   ],
   "source": [
    "#Binary Search Worst case \n",
    "#Bubble Sort best case \n",
    "listOfItems = readFromFile()\n",
    "listOfItems = bubble_sort(listOfItems)\n",
    "counterForSortingAlgorithms = 0\n",
    "listOfItems = bubble_sort(listOfItems)\n",
    "yWorst = []\n",
    "listToIterate = []\n",
    "for i in range(len(listOfItems)):\n",
    "\tcounter = 0\n",
    "\tlistToIterate = listOfItems[:i+1]\n",
    "\tbinarySearchRecursive(listToIterate, \"xxasfxcsdfxfasdf\", 0, len(listToIterate)-1)\n",
    "\tyWorst.append(counterForSortingAlgorithms + counter)\n",
    "print(yWorst)\n",
    "plt.plot( x, yWorst, 'r')\n",
    "plt.show()\n"
   ]
  },
  {
   "cell_type": "code",
   "execution_count": 17,
   "metadata": {},
   "outputs": [
    {
     "name": "stdout",
     "output_type": "stream",
     "text": [
      "[54, 55, 55, 56, 56, 56, 56, 57, 57, 57]\n"
     ]
    },
    {
     "data": {
      "image/png": "[encoded data removed]",
      "text/plain": [
       "<Figure size 432x288 with 1 Axes>"
      ]
     },
     "metadata": {},
     "output_type": "display_data"
    }
   ],
   "source": [
    "#Binary Search Worst case \n",
    "#Bubble Sort average case \n",
    "\n",
    "listOfItems = readFromFile()\n",
    "counterForSortingAlgorithms = 0\n",
    "listOfItems = bubble_sort(listOfItems)\n",
    "yWorst = []\n",
    "listToIterate = []\n",
    "for i in range(len(listOfItems)):\n",
    "\tcounter = 0\n",
    "\tlistToIterate = listOfItems[:i+1]\n",
    "\tbinarySearchRecursive(listToIterate, \"xxasfxcsdfxfasdf\", 0, len(listToIterate)-1)\n",
    "\tyWorst.append(counterForSortingAlgorithms + counter)\n",
    "print(yWorst)\n",
    "plt.plot( x, yWorst, 'r')\n",
    "plt.show()\n"
   ]
  },
  {
   "cell_type": "code",
   "execution_count": 18,
   "metadata": {},
   "outputs": [
    {
     "name": "stdout",
     "output_type": "stream",
     "text": [
      "[54, 55, 55, 56, 56, 56, 56, 57, 57, 57]\n"
     ]
    },
    {
     "data": {
      "image/png": "[encoded data removed]",
      "text/plain": [
       "<Figure size 432x288 with 1 Axes>"
      ]
     },
     "metadata": {},
     "output_type": "display_data"
    }
   ],
   "source": [
    "#Binary Search Worst case \n",
    "#Bubble Sort worst case \n",
    "\n",
    "listOfItems = readFromFile()\n",
    "counterForSortingAlgorithms = 0\n",
    "listOfItems = bubble_sort(listOfItems)\n",
    "listOfItems.reverse()\n",
    "yWorst = []\n",
    "listToIterate = []\n",
    "for i in range(len(listOfItems)):\n",
    "\tcounter = 0\n",
    "\tlistToIterate = listOfItems[:i+1]\n",
    "\tbinarySearchRecursive(listToIterate, \"xxasfxcsdfxfasdf\", 0, len(listToIterate)-1)\n",
    "\tyWorst.append(counterForSortingAlgorithms + counter)\n",
    "print(yWorst)\n",
    "plt.plot( x, yWorst, 'r')\n",
    "plt.show()\n"
   ]
  },
  {
   "cell_type": "code",
   "execution_count": 16,
   "metadata": {},
   "outputs": [
    {
     "name": "stdout",
     "output_type": "stream",
     "text": [
      "1, Malie\n",
      "2, Fresno\n",
      "3, Aguachica\n",
      "4, Yambrasbamba\n",
      "5, Chengnan\n",
      "6, Santa Cruz\n",
      "7, Jaquimeyes\n",
      "8, Santa Cruz\n",
      "9, Torre\n",
      "10, Duraznopampa\n"
     ]
    }
   ],
   "source": [
    "#Merge Sort\n",
    "\n",
    "listOfItems = readFromFile()\n",
    "printList(listOfItems)\n"
   ]
  },
  {
   "cell_type": "code",
   "execution_count": 17,
   "metadata": {},
   "outputs": [
    {
     "name": "stdout",
     "output_type": "stream",
     "text": [
      "Now sorted: \n",
      "3, Aguachica\n",
      "5, Chengnan\n",
      "10, Duraznopampa\n",
      "2, Fresno\n",
      "7, Jaquimeyes\n",
      "1, Malie\n",
      "8, Santa Cruz\n",
      "6, Santa Cruz\n",
      "9, Torre\n",
      "4, Yambrasbamba\n"
     ]
    }
   ],
   "source": [
    "counterForSortingAlgorithms = 0\n",
    "listOfItems = MergeSort(listOfItems, 0, len(listOfItems)-1)\n",
    "print(\"Now sorted: \")\n",
    "printList(listOfItems)\n",
    "\n"
   ]
  },
  {
   "cell_type": "code",
   "execution_count": 20,
   "metadata": {},
   "outputs": [
    {
     "name": "stdout",
     "output_type": "stream",
     "text": [
      "\n",
      "Binary Search with Merge Sort\n",
      "\tLooking for 'Jaquimeyes'\n",
      "\tFound at: 4 for a time of 54\n",
      "\tLooking for 'Mexico City'\n",
      "\tFound at: -1 for a time of 58\n"
     ]
    }
   ],
   "source": [
    "print(\"\\nBinary Search with Merge Sort\")\n",
    "counter = 0\n",
    "print(\"\\tLooking for 'Jaquimeyes'\")\n",
    "print(\"\\tFound at: \" + str(binarySearchRecursive(listOfItems, 'Jaquimeyes', 0, len(listOfItems)-1)) +\" for a time of \"+ str(counter + counterForSortingAlgorithms))\n",
    "counter = 0\n",
    "print(\"\\tLooking for 'Mexico City'\")\n",
    "print(\"\\tFound at: \" + str(binarySearchRecursive(listOfItems, 'Mexico City', 0, len(listOfItems)-1)) +\" for a time of \"+ str(counter + counterForSortingAlgorithms))"
   ]
  },
  {
   "cell_type": "code",
   "execution_count": 20,
   "metadata": {},
   "outputs": [
    {
     "name": "stdout",
     "output_type": "stream",
     "text": [
      "Binary Search Best Case\n",
      "[54, 54, 54, 54, 54, 54, 54, 54, 54, 54]\n"
     ]
    },
    {
     "data": {
      "image/png": "[encoded data removed]",
      "text/plain": [
       "<Figure size 432x288 with 1 Axes>"
      ]
     },
     "metadata": {},
     "output_type": "display_data"
    }
   ],
   "source": [
    "# Binary Search Best Case \n",
    "print(\"Binary Search Best Case\")\n",
    "\t# MergeSort Best Case \n",
    "listOfItems = readFromFile()\n",
    "listOfItems = MergeSort(listOfItems, 0, len(listOfItems)-1)\n",
    "counterForSortingAlgorithms = 0\n",
    "listOfItems = MergeSort(listOfItems, 0, len(listOfItems)-1)\n",
    "x = []\n",
    "yBest = []\n",
    "listToIterate = []\n",
    "for i in range(len(listOfItems)):\n",
    "\tcounter = 0\n",
    "\tx.append(i+1)\n",
    "\tlistToIterate = listOfItems[:i+1]\n",
    "\tmid = math.floor((0 + (len(listToIterate)-1)) / 2)\n",
    "\tcity = listToIterate[int(mid)].city\n",
    "\tbinarySearchRecursive(listToIterate, city, 0, len(listToIterate)-1)\n",
    "\tyBest.append(counterForSortingAlgorithms + counter)\n",
    "print(yBest)\n",
    "plt.plot( x, yBest)\n",
    "plt.show()"
   ]
  },
  {
   "cell_type": "code",
   "execution_count": 27,
   "metadata": {},
   "outputs": [
    {
     "name": "stdout",
     "output_type": "stream",
     "text": [
      "[54, 54, 54, 54, 54, 54, 54, 54, 54, 54]\n"
     ]
    },
    {
     "data": {
      "image/png": "[encoded data removed]",
      "text/plain": [
       "<Figure size 432x288 with 1 Axes>"
      ]
     },
     "metadata": {},
     "output_type": "display_data"
    }
   ],
   "source": [
    "# MergeSort Average Case \n",
    "counterForSortingAlgorithms = 0\n",
    "listOfItems = readFromFile()\n",
    "listOfItems = MergeSort(listOfItems, 0, len(listOfItems)-1)\n",
    "yAverage = []\n",
    "listToIterate = []\n",
    "for i in range(len(listOfItems)):\n",
    "\tcounter = 0\n",
    "\tlistToIterate = listOfItems[:i+1]\n",
    "\tmid = math.floor((0 + (len(listToIterate)-1)) / 2)\n",
    "\tcity = listToIterate[int(mid)].city\n",
    "\tbinarySearchRecursive(listToIterate, city, 0, len(listToIterate)-1)\n",
    "\tyAverage.append(counterForSortingAlgorithms + counter)\n",
    "print(yAverage)\n",
    "plt.plot( x, yAverage)\n",
    "plt.show()"
   ]
  },
  {
   "cell_type": "code",
   "execution_count": 28,
   "metadata": {},
   "outputs": [
    {
     "name": "stdout",
     "output_type": "stream",
     "text": [
      "[54, 54, 54, 54, 54, 54, 54, 54, 54, 54]\n"
     ]
    },
    {
     "data": {
      "image/png": "[encoded data removed]",
      "text/plain": [
       "<Figure size 432x288 with 1 Axes>"
      ]
     },
     "metadata": {},
     "output_type": "display_data"
    }
   ],
   "source": [
    "# MergeSort Worst Case \n",
    "counterForSortingAlgorithms = 0\n",
    "listOfItems = readFromFile()\n",
    "listOfItems.reverse()\n",
    "listOfItems = MergeSort(listOfItems, 0, len(listOfItems)-1)\n",
    "yWorst = []\n",
    "listToIterate = []\n",
    "for i in range(len(listOfItems)):\n",
    "\tcounter = 0\n",
    "\tlistToIterate = listOfItems[:i+1]\n",
    "\tmid = math.floor((0 + (len(listToIterate)-1)) / 2)\n",
    "\tcity = listToIterate[int(mid)].city\n",
    "\tbinarySearchRecursive(listToIterate, city, 0, len(listToIterate)-1)\n",
    "\tyWorst.append(counterForSortingAlgorithms + counter)\n",
    "print(yWorst)\n",
    "plt.plot( x, yWorst)\n",
    "\n",
    "plt.show()"
   ]
  },
  {
   "cell_type": "code",
   "execution_count": 26,
   "metadata": {},
   "outputs": [
    {
     "name": "stdout",
     "output_type": "stream",
     "text": [
      "Binary Search Average Case\n",
      "[54, 55, 55, 55, 56, 56, 56, 56, 56, 55]\n"
     ]
    },
    {
     "data": {
      "image/png": "[encoded data removed]",
      "text/plain": [
       "<Figure size 432x288 with 1 Axes>"
      ]
     },
     "metadata": {},
     "output_type": "display_data"
    }
   ],
   "source": [
    "\n",
    "# Binary Search Average Case \n",
    "print(\"Binary Search Average Case\")\n",
    "\n",
    "listOfItems = readFromFile()\n",
    "listOfItems = MergeSort(listOfItems, 0, len(listOfItems)-1)\n",
    "counterForSortingAlgorithms = 0\n",
    "listOfItems = MergeSort(listOfItems, 0, len(listOfItems)-1)\n",
    "x = []\n",
    "yBest = []\n",
    "listToIterate = []\n",
    "for i in range(len(listOfItems)):\n",
    "\tcounter = 0\n",
    "\tx.append(i+1)\n",
    "\tlistToIterate = listOfItems[:i+1]\n",
    "\trandomElement = random.randint(0,len(listToIterate)-1)\n",
    "\tcity = listToIterate[randomElement].city\n",
    "\tbinarySearchRecursive(listToIterate, city, 0, len(listToIterate)-1)\n",
    "\tyBest.append(counterForSortingAlgorithms + counter)\n",
    "print(yBest)\n",
    "\n",
    "plt.plot( x, yBest)\n",
    "plt.show()"
   ]
  },
  {
   "cell_type": "code",
   "execution_count": 29,
   "metadata": {},
   "outputs": [
    {
     "name": "stdout",
     "output_type": "stream",
     "text": [
      "[54, 55, 55, 55, 54, 54, 56, 55, 56, 56]\n"
     ]
    },
    {
     "data": {
      "image/png": "[encoded data removed]",
      "text/plain": [
       "<Figure size 432x288 with 1 Axes>"
      ]
     },
     "metadata": {},
     "output_type": "display_data"
    }
   ],
   "source": [
    "# MergeSort Average Case \n",
    "counterForSortingAlgorithms = 0\n",
    "listOfItems = readFromFile()\n",
    "listOfItems = MergeSort(listOfItems, 0, len(listOfItems)-1)\n",
    "yAverage = []\n",
    "listToIterate = []\n",
    "for i in range(len(listOfItems)):\n",
    "\tcounter = 0\n",
    "\tlistToIterate = listOfItems[:i+1]\n",
    "\trandomElement = random.randint(0,len(listToIterate)-1)\n",
    "\tcity = listToIterate[randomElement].city\n",
    "\tbinarySearchRecursive(listToIterate, city, 0, len(listToIterate)-1)\n",
    "\tyAverage.append(counterForSortingAlgorithms + counter)\n",
    "print(yAverage)\n",
    "plt.plot( x, yAverage)\n",
    "plt.show()"
   ]
  },
  {
   "cell_type": "code",
   "execution_count": 30,
   "metadata": {},
   "outputs": [
    {
     "name": "stdout",
     "output_type": "stream",
     "text": [
      "[54, 54, 55, 55, 54, 55, 56, 56, 57, 56]\n"
     ]
    },
    {
     "data": {
      "image/png": "[encoded data removed]",
      "text/plain": [
       "<Figure size 432x288 with 1 Axes>"
      ]
     },
     "metadata": {},
     "output_type": "display_data"
    }
   ],
   "source": [
    "# MergeSort Worst Case \n",
    "counterForSortingAlgorithms = 0\n",
    "listOfItems = readFromFile()\n",
    "listOfItems.reverse()\n",
    "listOfItems = MergeSort(listOfItems, 0, len(listOfItems)-1)\n",
    "yWorst = []\n",
    "listToIterate = []\n",
    "for i in range(len(listOfItems)):\n",
    "\tcounter = 0\n",
    "\tlistToIterate = listOfItems[:i+1]\n",
    "\trandomElement = random.randint(0,len(listToIterate)-1)\n",
    "\tcity = listToIterate[randomElement].city\n",
    "\tbinarySearchRecursive(listToIterate, city, 0, len(listToIterate)-1)\n",
    "\tyWorst.append(counterForSortingAlgorithms + counter)\n",
    "print(yWorst)\n",
    "plt.plot( x, yWorst)\n",
    "plt.show()"
   ]
  },
  {
   "cell_type": "code",
   "execution_count": 31,
   "metadata": {},
   "outputs": [
    {
     "name": "stdout",
     "output_type": "stream",
     "text": [
      "Binary Search Worst Case\n",
      "[55, 56, 56, 57, 57, 57, 57, 58, 58, 58]\n"
     ]
    },
    {
     "data": {
      "image/png": "[encoded data removed]",
      "text/plain": [
       "<Figure size 432x288 with 1 Axes>"
      ]
     },
     "metadata": {},
     "output_type": "display_data"
    }
   ],
   "source": [
    "# Binary Search Worst Case \n",
    "print(\"Binary Search Worst Case\")\n",
    "\n",
    "listOfItems = readFromFile()\n",
    "listOfItems = MergeSort(listOfItems, 0, len(listOfItems)-1)\n",
    "counterForSortingAlgorithms = 0\n",
    "listOfItems = MergeSort(listOfItems, 0, len(listOfItems)-1)\n",
    "x = []\n",
    "yBest = []\n",
    "listToIterate = []\n",
    "for i in range(len(listOfItems)):\n",
    "\tcounter = 0\n",
    "\tx.append(i+1)\n",
    "\tlistToIterate = listOfItems[:i+1]\n",
    "\tbinarySearchRecursive(listToIterate, \"xxxxxxxx\", 0, len(listToIterate)-1)\t\n",
    "\tyBest.append(counterForSortingAlgorithms + counter)\n",
    "print(yBest)\n",
    "\n",
    "plt.plot( x, yBest)\n",
    "plt.show()"
   ]
  },
  {
   "cell_type": "code",
   "execution_count": 32,
   "metadata": {},
   "outputs": [
    {
     "name": "stdout",
     "output_type": "stream",
     "text": [
      "[55, 56, 56, 57, 57, 57, 57, 58, 58, 58]\n"
     ]
    },
    {
     "data": {
      "image/png": "[encoded data removed]",
      "text/plain": [
       "<Figure size 432x288 with 1 Axes>"
      ]
     },
     "metadata": {},
     "output_type": "display_data"
    }
   ],
   "source": [
    "# MergeSort Average Case \n",
    "counterForSortingAlgorithms = 0\n",
    "listOfItems = readFromFile()\n",
    "listOfItems = MergeSort(listOfItems, 0, len(listOfItems)-1)\n",
    "yAverage = []\n",
    "listToIterate = []\n",
    "for i in range(len(listOfItems)):\n",
    "\tcounter = 0\n",
    "\tlistToIterate = listOfItems[:i+1]\n",
    "\tbinarySearchRecursive(listToIterate, \"xxxxxxxx\", 0, len(listToIterate)-1)\n",
    "\tyAverage.append(counterForSortingAlgorithms + counter)\n",
    "print(yAverage)\n",
    "plt.plot( x, yAverage)\n",
    "plt.show()"
   ]
  },
  {
   "cell_type": "code",
   "execution_count": 33,
   "metadata": {},
   "outputs": [
    {
     "name": "stdout",
     "output_type": "stream",
     "text": [
      "[55, 56, 56, 57, 57, 57, 57, 58, 58, 58]\n"
     ]
    },
    {
     "data": {
      "image/png": "[encoded data removed]",
      "text/plain": [
       "<Figure size 432x288 with 1 Axes>"
      ]
     },
     "metadata": {},
     "output_type": "display_data"
    }
   ],
   "source": [
    "\n",
    "# MergeSort Worst Case \n",
    "counterForSortingAlgorithms = 0\n",
    "listOfItems = readFromFile()\n",
    "listOfItems.reverse()\n",
    "listOfItems = MergeSort(listOfItems, 0, len(listOfItems)-1)\n",
    "yWorst = []\n",
    "listToIterate = []\n",
    "for i in range(len(listOfItems)):\n",
    "\tcounter = 0\n",
    "\tlistToIterate = listOfItems[:i+1]\n",
    "\tbinarySearchRecursive(listToIterate, \"xxxxxxxx\", 0, len(listToIterate)-1)\n",
    "\tyWorst.append(counterForSortingAlgorithms + counter)\n",
    "print(yWorst)\n",
    "\n",
    "plt.plot( x, yWorst)\n",
    "plt.show()"
   ]
  },
  {
   "cell_type": "code",
   "execution_count": null,
   "metadata": {},
   "outputs": [],
   "source": []
  }
 ],
 "metadata": {
  "kernelspec": {
   "display_name": "Python 3",
   "language": "python",
   "name": "python3"
  },
  "language_info": {
   "codemirror_mode": {
    "name": "ipython",
    "version": 2
   },
   "file_extension": ".py",
   "mimetype": "text/x-python",
   "name": "python",
   "nbconvert_exporter": "python",
   "pygments_lexer": "ipython2",
   "version": "2.7.15"
  }
 },
 "nbformat": 4,
 "nbformat_minor": 2
}
