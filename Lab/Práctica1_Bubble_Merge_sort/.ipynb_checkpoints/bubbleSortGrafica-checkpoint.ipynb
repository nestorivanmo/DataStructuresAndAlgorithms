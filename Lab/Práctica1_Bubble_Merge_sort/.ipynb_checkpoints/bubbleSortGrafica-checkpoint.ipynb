{
 "cells": [
  {
   "cell_type": "code",
   "execution_count": 18,
   "metadata": {},
   "outputs": [],
   "source": [
    "import numpy as np\n",
    "import matplotlib.pyplot as plt \n",
    "from mpl_toolkits.mplot3d import Axes3D\n",
    "import random\n",
    "%matplotlib inline"
   ]
  },
  {
   "cell_type": "code",
   "execution_count": 352,
   "metadata": {},
   "outputs": [],
   "source": [
    "xO = []\n",
    "yO = []\n",
    "xTheta = []\n",
    "yTheta = []\n",
    "xOmega = []\n",
    "yOmega = []\n",
    "lista = []\n",
    "for x in xrange(0,1001):\n",
    "    lista.append(random.randint(1,1001))\n",
    "    xO.append(x)\n",
    "    xTheta.append(x)\n",
    "    xOmega.append(x)\n",
    "    "
   ]
  },
  {
   "cell_type": "code",
   "execution_count": 353,
   "metadata": {},
   "outputs": [],
   "source": [
    "def bubble_sort(a, n):\n",
    "    intercambio = 1\n",
    "    i = 0\n",
    "    j = 0\n",
    "    contador = 0\n",
    "    while i < n-1 and intercambio == 1: \n",
    "        intercambio = 0\n",
    "        for j in xrange(n-i-1):\n",
    "            if a[j] > a[j + 1]:\n",
    "                intercambio = 1\n",
    "                tmp = a[j]\n",
    "                a[j] = a[j + 1]\n",
    "                a[j + 1] = tmp\n",
    "            contador += 1\n",
    "    return contador"
   ]
  },
  {
   "cell_type": "code",
   "execution_count": 354,
   "metadata": {},
   "outputs": [
    {
     "name": "stdout",
     "output_type": "stream",
     "text": [
      "Veces normales: 988000\n",
      "Veces ordenadas: 1000\n",
      "Veces desordenadas: 1000000\n"
     ]
    }
   ],
   "source": [
    "#Lista normal\n",
    "normal = bubble_sort(lista, 1001)\n",
    "print(\"Veces normales: \" + str(normal))\n",
    "#Lista ordenada \n",
    "lista.sort()\n",
    "ordenada = bubble_sort(lista, 1001)\n",
    "print(\"Veces ordenadas: \" + str(ordenada))\n",
    "#Lista desordenada\n",
    "lista.reverse()\n",
    "desordenada = bubble_sort(lista,1001)\n",
    "print(\"Veces desordenadas: \" + str(desordenada))\n"
   ]
  },
  {
   "cell_type": "code",
   "execution_count": 346,
   "metadata": {},
   "outputs": [
    {
     "data": {
      "image/png": "[encoded data removed]",
      "text/plain": [
       "<Figure size 432x288 with 1 Axes>"
      ]
     },
     "metadata": {},
     "output_type": "display_data"
    }
   ],
   "source": [
    "yO = np.linspace(0, ordenada,1001)\n",
    "yTheta = np.linspace(0, normal,1001)\n",
    "yOmega = np.linspace(0, desordenada,1001)\n",
    "\n",
    "plt.plot(xO, yO, 'r', xTheta, yTheta, 'b', xOmega, yOmega, 'g')\n",
    "plt.show()\n",
    "\n"
   ]
  },
  {
   "cell_type": "code",
   "execution_count": null,
   "metadata": {},
   "outputs": [],
   "source": []
  },
  {
   "cell_type": "code",
   "execution_count": null,
   "metadata": {},
   "outputs": [],
   "source": []
  }
 ],
 "metadata": {
  "kernelspec": {
   "display_name": "Python 3",
   "language": "python",
   "name": "python3"
  },
  "language_info": {
   "codemirror_mode": {
    "name": "ipython",
    "version": 2
   },
   "file_extension": ".py",
   "mimetype": "text/x-python",
   "name": "python",
   "nbconvert_exporter": "python",
   "pygments_lexer": "ipython2",
   "version": "2.7.15"
  }
 },
 "nbformat": 4,
 "nbformat_minor": 2
}
