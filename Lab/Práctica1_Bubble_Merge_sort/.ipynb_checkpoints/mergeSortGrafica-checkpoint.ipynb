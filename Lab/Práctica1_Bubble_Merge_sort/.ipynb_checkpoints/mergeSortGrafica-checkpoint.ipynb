{
 "cells": [
  {
   "cell_type": "code",
   "execution_count": 1,
   "metadata": {},
   "outputs": [],
   "source": [
    "import numpy as np\n",
    "import matplotlib.pyplot as plt \n",
    "from mpl_toolkits.mplot3d import Axes3D\n",
    "import random\n",
    "%matplotlib inline"
   ]
  },
  {
   "cell_type": "code",
   "execution_count": 50,
   "metadata": {},
   "outputs": [],
   "source": [
    "xO = []\n",
    "yO = []\n",
    "xTheta = []\n",
    "yTheta = []\n",
    "xOmega = []\n",
    "yOmega = []\n",
    "lista = []\n",
    "for x in xrange(0,1001):\n",
    "    lista.append(random.randint(1,1001))\n",
    "    xO.append(x)\n",
    "    xTheta.append(x)\n",
    "    xOmega.append(x)"
   ]
  },
  {
   "cell_type": "code",
   "execution_count": 51,
   "metadata": {},
   "outputs": [],
   "source": [
    "contador = 0\n",
    "\n",
    "def Merge(A, p, q, r):\n",
    "\tarrIzq = A[p:q+1]\n",
    "\tarrDer = A[q+1:r+1]\n",
    "\tizq = 0\n",
    "\tder = 0\n",
    "\tglobal contador \n",
    "\tfor k in xrange(p,r+1):\n",
    "\t\tif (der >= len(arrDer)) or (izq < len(arrIzq) and arrIzq[izq] < arrDer[der]):\n",
    "\t\t\tA[k] = arrIzq[izq]\n",
    "\t\t\tizq += 1\n",
    "\t\t\tcontador += 1\n",
    "\t\telse:\n",
    "\t\t\tA[k] = arrDer[der]\n",
    "\t\t\tder += 1\n",
    "\t\t\tcontador += 1\n",
    "\t\tcontador += 1\n",
    "\n",
    "def MergeSort(A, p, r):\n",
    "\tglobal contador \n",
    "\tif p >= r:\n",
    "\t\tcontador += 1\n",
    "\t\treturn\n",
    "\telse:\n",
    "\t\tcontador +=1\n",
    "\t\tq = (p + r ) / 2\n",
    "\t\tMergeSort(A, p, q)\n",
    "\t\tMergeSort(A, q + 1, r)\n",
    "\t\tMerge(A, p, q, r)\n",
    "\treturn contador"
   ]
  },
  {
   "cell_type": "code",
   "execution_count": 52,
   "metadata": {},
   "outputs": [
    {
     "name": "stdout",
     "output_type": "stream",
     "text": [
      "Veces normales: 21975\n",
      "Veces ordenadas: 43950\n",
      "Veces desordenadas: 65925\n"
     ]
    }
   ],
   "source": [
    "#Lista normal\n",
    "#print(lista)\n",
    "normal = MergeSort(lista, 0, len(lista) - 1)\n",
    "print(\"Veces normales: \" + str(normal))\n",
    "#Lista ordenada \n",
    "lista.sort()\n",
    "#print(lista)\n",
    "ordenada = MergeSort(lista, 0, len(lista) - 1)\n",
    "print(\"Veces ordenadas: \" + str(ordenada))\n",
    "#Lista desordenada\n",
    "lista.reverse()\n",
    "#print(lista)\n",
    "desordenada = MergeSort(lista,0,len(lista) - 1)\n",
    "print(\"Veces desordenadas: \" + str(desordenada))"
   ]
  },
  {
   "cell_type": "code",
   "execution_count": 53,
   "metadata": {},
   "outputs": [
    {
     "data": {
      "image/png": "[encoded data removed]",
      "text/plain": [
       "<Figure size 432x288 with 1 Axes>"
      ]
     },
     "metadata": {},
     "output_type": "display_data"
    }
   ],
   "source": [
    "yO = np.linspace(0, ordenada,1001)\n",
    "yTheta = np.linspace(0, normal,1001)\n",
    "yOmega = np.linspace(0, desordenada,1001)\n",
    "\n",
    "plt.plot(xO, yO, 'r', xTheta, yTheta, 'b', xOmega, yOmega, 'g')\n",
    "plt.show()"
   ]
  },
  {
   "cell_type": "code",
   "execution_count": null,
   "metadata": {},
   "outputs": [],
   "source": []
  }
 ],
 "metadata": {
  "kernelspec": {
   "display_name": "Python 3",
   "language": "python",
   "name": "python3"
  },
  "language_info": {
   "codemirror_mode": {
    "name": "ipython",
    "version": 2
   },
   "file_extension": ".py",
   "mimetype": "text/x-python",
   "name": "python",
   "nbconvert_exporter": "python",
   "pygments_lexer": "ipython2",
   "version": "2.7.15"
  }
 },
 "nbformat": 4,
 "nbformat_minor": 2
}
