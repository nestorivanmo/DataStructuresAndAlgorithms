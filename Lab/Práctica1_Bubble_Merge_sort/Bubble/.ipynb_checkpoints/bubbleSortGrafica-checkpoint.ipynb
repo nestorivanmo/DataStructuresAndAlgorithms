{
 "cells": [
  {
   "cell_type": "code",
   "execution_count": 76,
   "metadata": {},
   "outputs": [],
   "source": [
    "import numpy as np\n",
    "import matplotlib.pyplot as plt \n",
    "from mpl_toolkits.mplot3d import Axes3D\n",
    "import random\n",
    "%matplotlib inline"
   ]
  },
  {
   "cell_type": "code",
   "execution_count": 132,
   "metadata": {},
   "outputs": [],
   "source": [
    "\n",
    "def bubble_sort(a, n):\n",
    "    intercambio = 1\n",
    "    i = 0\n",
    "    j = 0\n",
    "    contador = 0\n",
    "    while i < n-1 and intercambio == 1: \n",
    "        intercambio = 0\n",
    "        for j in xrange(n-i-1):\n",
    "            if a[j] > a[j + 1]:\n",
    "                intercambio = 1\n",
    "                tmp = a[j]\n",
    "                a[j] = a[j + 1]\n",
    "                a[j + 1] = tmp\n",
    "            contador += 1\n",
    "        contador += 1\n",
    "    return contador"
   ]
  },
  {
   "cell_type": "code",
   "execution_count": 161,
   "metadata": {},
   "outputs": [
    {
     "name": "stdout",
     "output_type": "stream",
     "text": [
      "[0, 4, 9, 8, 15, 24, 35, 48, 81, 50, 66, 72, 78, 98, 120, 128, 170, 216, 228, 240]\n"
     ]
    }
   ],
   "source": [
    "xO = []\n",
    "yO = []\n",
    "xTheta = []\n",
    "yTheta = []\n",
    "xOmega = []\n",
    "yOmega = []\n",
    "lista = []\n",
    "\n",
    "for n in xrange(1,21):\n",
    "    xO.append(n)\n",
    "    xOmega.append(n)\n",
    "    xTheta.append(n)\n",
    "    for x in xrange(0,n):\n",
    "        lista.append(random.randint(0,10))\n",
    "    yO.append(bubble_sort(lista,n))\n",
    "    lista.sort()\n",
    "    yTheta.append(bubble_sort(lista,n))\n",
    "    lista.reverse()\n",
    "    yOmega.append(bubble_sort(lista,n))\n",
    "    \n",
    "print(yOmega)"
   ]
  },
  {
   "cell_type": "code",
   "execution_count": 162,
   "metadata": {},
   "outputs": [
    {
     "data": {
      "image/png": "[encoded data removed]",
      "text/plain": [
       "<Figure size 432x288 with 1 Axes>"
      ]
     },
     "metadata": {},
     "output_type": "display_data"
    }
   ],
   "source": [
    "plt.plot(xO, yO, 'r', xTheta, yTheta, 'b', xOmega, yOmega, 'g')\n",
    "#plt.plot(xO, yO, 'r')\n",
    "plt.show()"
   ]
  },
  {
   "cell_type": "code",
   "execution_count": null,
   "metadata": {},
   "outputs": [],
   "source": []
  },
  {
   "cell_type": "code",
   "execution_count": null,
   "metadata": {},
   "outputs": [],
   "source": []
  }
 ],
 "metadata": {
  "kernelspec": {
   "display_name": "Python 3",
   "language": "python",
   "name": "python3"
  },
  "language_info": {
   "codemirror_mode": {
    "name": "ipython",
    "version": 2
   },
   "file_extension": ".py",
   "mimetype": "text/x-python",
   "name": "python",
   "nbconvert_exporter": "python",
   "pygments_lexer": "ipython2",
   "version": "2.7.15"
  }
 },
 "nbformat": 4,
 "nbformat_minor": 2
}
