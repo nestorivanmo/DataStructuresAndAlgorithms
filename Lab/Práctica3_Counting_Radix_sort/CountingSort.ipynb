{
 "cells": [
  {
   "cell_type": "code",
   "execution_count": 43,
   "metadata": {},
   "outputs": [],
   "source": [
    "import numpy as np\n",
    "import matplotlib.pyplot as plt \n",
    "from mpl_toolkits.mplot3d import Axes3D\n",
    "import random\n",
    "%matplotlib inline\n",
    "from Node import *"
   ]
  },
  {
   "cell_type": "code",
   "execution_count": 125,
   "metadata": {},
   "outputs": [],
   "source": [
    "def crearLista(k):\n",
    "    L = []\n",
    "    for i in range(k+1):\n",
    "        L.append(0)\n",
    "    return L"
   ]
  },
  {
   "cell_type": "code",
   "execution_count": 197,
   "metadata": {},
   "outputs": [],
   "source": [
    "def countingSortCaracter(A, k):\n",
    "    C = crearLista(k)\n",
    "    B = crearLista(len(A)-1)\n",
    "    \n",
    "    for j in range(1, len(A)):\n",
    "        y = list(A[j].name)\n",
    "        w = 0\n",
    "        for o in range(len(y)):\n",
    "            w += ord(y[o]) \n",
    "        C[w] = C[w] + 1\n",
    "        \n",
    "    for i in range(1, k+1):\n",
    "        C[i] = C[i]+C[i-1]\n",
    "        \n",
    "    for j in range(len(A), 0, -1):\n",
    "        y = list(A[j].name)\n",
    "        w = 0\n",
    "        for o in range(len(y)):\n",
    "            w += ord(y[o]) \n",
    "        C[w] += 1\n",
    "        \n",
    "        B[C[w]] = A[j]\n",
    "        C[w] = C[w]-1\n",
    "        \n",
    "    return B"
   ]
  },
  {
   "cell_type": "code",
   "execution_count": 198,
   "metadata": {},
   "outputs": [
    {
     "name": "stdout",
     "output_type": "stream",
     "text": [
      "30, Philippines\n",
      "7, Indonesia\n",
      "28, Russia\n",
      "34, Portugal\n",
      "40, Ukraine\n",
      "10, Indonesia\n",
      "45, China\n",
      "29, China\n",
      "20, Yemen\n",
      "9, France\n",
      "49, United States\n",
      "46, Indonesia\n",
      "35, China\n",
      "17, Greece\n",
      "2, Canada\n",
      "12, Brazil\n",
      "16, France\n",
      "42, China\n",
      "31, China\n",
      "19, Indonesia\n",
      "33, Vietnam\n",
      "4, Haiti\n",
      "44, China\n",
      "14, Portugal\n",
      "48, Cyprus\n",
      "24, Spain\n",
      "26, Peru\n",
      "32, Macedonia\n",
      "47, France\n",
      "23, Colombia\n",
      "18, China\n",
      "21, Indonesia\n",
      "36, China\n",
      "1, Indonesia\n",
      "38, Nepal\n",
      "50, Greece\n",
      "5, Brazil\n",
      "11, Thailand\n",
      "15, Brazil\n",
      "27, China\n",
      "13, China\n",
      "39, Malaysia\n",
      "37, Philippines\n",
      "41, Russia\n",
      "22, China\n",
      "25, Yemen\n",
      "43, France\n",
      "6, China\n",
      "3, China\n",
      "8, Armenia\n"
     ]
    }
   ],
   "source": [
    "lista = readFromFile()\n",
    "sattoloCycle(lista)\n",
    "printList(lista)"
   ]
  },
  {
   "cell_type": "code",
   "execution_count": 200,
   "metadata": {},
   "outputs": [
    {
     "ename": "IndexError",
     "evalue": "list index out of range",
     "output_type": "error",
     "traceback": [
      "\u001b[0;31m---------------------------------------------------------------------------\u001b[0m",
      "\u001b[0;31mIndexError\u001b[0m                                Traceback (most recent call last)",
      "\u001b[0;32m<ipython-input-200-c10e8f03ac38>\u001b[0m in \u001b[0;36m<module>\u001b[0;34m()\u001b[0m\n\u001b[1;32m      4\u001b[0m         \u001b[0mmayor\u001b[0m \u001b[0;34m=\u001b[0m \u001b[0mlen\u001b[0m\u001b[0;34m(\u001b[0m\u001b[0mlista\u001b[0m\u001b[0;34m[\u001b[0m\u001b[0mx\u001b[0m\u001b[0;34m]\u001b[0m\u001b[0;34m.\u001b[0m\u001b[0mname\u001b[0m\u001b[0;34m)\u001b[0m\u001b[0;34m\u001b[0m\u001b[0m\n\u001b[1;32m      5\u001b[0m \u001b[0;34m\u001b[0m\u001b[0m\n\u001b[0;32m----> 6\u001b[0;31m \u001b[0mlista\u001b[0m \u001b[0;34m=\u001b[0m \u001b[0mcountingSortCaracter\u001b[0m\u001b[0;34m(\u001b[0m\u001b[0mlista\u001b[0m\u001b[0;34m,\u001b[0m \u001b[0mmayor\u001b[0m\u001b[0;34m-\u001b[0m\u001b[0;36m1\u001b[0m\u001b[0;34m)\u001b[0m\u001b[0;34m\u001b[0m\u001b[0m\n\u001b[0m\u001b[1;32m      7\u001b[0m \u001b[0;32mprint\u001b[0m\u001b[0;34m(\u001b[0m\u001b[0mlista\u001b[0m\u001b[0;34m)\u001b[0m\u001b[0;34m\u001b[0m\u001b[0m\n",
      "\u001b[0;32m<ipython-input-197-8d7a79eca4bb>\u001b[0m in \u001b[0;36mcountingSortCaracter\u001b[0;34m(A, k)\u001b[0m\n\u001b[1;32m      8\u001b[0m         \u001b[0;32mfor\u001b[0m \u001b[0mo\u001b[0m \u001b[0;32min\u001b[0m \u001b[0mrange\u001b[0m\u001b[0;34m(\u001b[0m\u001b[0mlen\u001b[0m\u001b[0;34m(\u001b[0m\u001b[0my\u001b[0m\u001b[0;34m)\u001b[0m\u001b[0;34m)\u001b[0m\u001b[0;34m:\u001b[0m\u001b[0;34m\u001b[0m\u001b[0m\n\u001b[1;32m      9\u001b[0m             \u001b[0mw\u001b[0m \u001b[0;34m+=\u001b[0m \u001b[0mord\u001b[0m\u001b[0;34m(\u001b[0m\u001b[0my\u001b[0m\u001b[0;34m[\u001b[0m\u001b[0mo\u001b[0m\u001b[0;34m]\u001b[0m\u001b[0;34m)\u001b[0m\u001b[0;34m\u001b[0m\u001b[0m\n\u001b[0;32m---> 10\u001b[0;31m         \u001b[0mC\u001b[0m\u001b[0;34m[\u001b[0m\u001b[0mw\u001b[0m\u001b[0;34m]\u001b[0m \u001b[0;34m=\u001b[0m \u001b[0mC\u001b[0m\u001b[0;34m[\u001b[0m\u001b[0mw\u001b[0m\u001b[0;34m]\u001b[0m \u001b[0;34m+\u001b[0m \u001b[0;36m1\u001b[0m\u001b[0;34m\u001b[0m\u001b[0m\n\u001b[0m\u001b[1;32m     11\u001b[0m \u001b[0;34m\u001b[0m\u001b[0m\n\u001b[1;32m     12\u001b[0m     \u001b[0;32mfor\u001b[0m \u001b[0mi\u001b[0m \u001b[0;32min\u001b[0m \u001b[0mrange\u001b[0m\u001b[0;34m(\u001b[0m\u001b[0;36m1\u001b[0m\u001b[0;34m,\u001b[0m \u001b[0mk\u001b[0m\u001b[0;34m+\u001b[0m\u001b[0;36m1\u001b[0m\u001b[0;34m)\u001b[0m\u001b[0;34m:\u001b[0m\u001b[0;34m\u001b[0m\u001b[0m\n",
      "\u001b[0;31mIndexError\u001b[0m: list index out of range"
     ]
    }
   ],
   "source": [
    "mayor = 0\n",
    "for x in range(len(lista)):\n",
    "    if(len(lista[x].name)) > mayor:\n",
    "        mayor = len(lista[x].name)\n",
    "        \n",
    "lista = countingSortCaracter(lista, mayor)\n",
    "print(lista)"
   ]
  },
  {
   "cell_type": "code",
   "execution_count": 195,
   "metadata": {},
   "outputs": [],
   "source": [
    "contador = 0\n",
    "def countingSortGraf(A, maxVal):\n",
    "    global contador \n",
    "    count = [0] * (maxVal + 1)\n",
    "    for a in range(len(A)):\n",
    "        contador += 1\n",
    "        count[a] += 1\n",
    "    i = 0\n",
    "    for a in range(maxVal + 1):\n",
    "        for c in range(count[a]):\n",
    "            contador += 1\n",
    "            A[i] = a\n",
    "            i += 1\n",
    "    return contador"
   ]
  },
  {
   "cell_type": "code",
   "execution_count": 21,
   "metadata": {},
   "outputs": [],
   "source": [
    "def graficarPromedio(elementos):\n",
    "    global contador\n",
    "    lista = []\n",
    "    x = []\n",
    "    yprom = []\n",
    "    for i in xrange(1, elementos+1):\n",
    "        x.append(i)\n",
    "        lista=[]\n",
    "        for j in xrange(1, i+1):\n",
    "            lista.append(random.randint(-elementos*2,elementos*2))\n",
    "        contador = 0\n",
    "        yprom.append(countingSortGraf(lista,len(lista)-1))\n",
    "    return (x, yprom)"
   ]
  },
  {
   "cell_type": "code",
   "execution_count": 22,
   "metadata": {},
   "outputs": [],
   "source": [
    "def graficarMejor(elementos):\n",
    "\tglobal contador\n",
    "\tlista = []\n",
    "\tx = []\n",
    "\tymejor = []\n",
    "\tfor i in xrange(1, elementos+1):\n",
    "\t\tx.append(i)\n",
    "\t\tlista=[]\n",
    "\t\tfor j in xrange(1, i+1):\n",
    "\t\t\tlista.append(random.randint(-elementos*2,elementos*2))\n",
    "\t\tcontador = 0\n",
    "\t\tlista.sort()\n",
    "\t\tymejor.append(countingSortGraf(lista,len(lista)-1))\n",
    "\treturn (ymejor)"
   ]
  },
  {
   "cell_type": "code",
   "execution_count": 23,
   "metadata": {},
   "outputs": [],
   "source": [
    "def graficarPeor(elementos):\n",
    "\tglobal contador\n",
    "\tlista = []\n",
    "\tx = []\n",
    "\typeor = []\n",
    "\tfor i in xrange(1, elementos+1):\n",
    "\t\tx.append(i)\n",
    "\t\tlista=[]\n",
    "\t\tfor j in xrange(1, i+1):\n",
    "\t\t\tlista.append(random.randint(-elementos*2,elementos*2))\n",
    "\t\tcontador = 0\n",
    "\t\tlista.reverse()\n",
    "\t\typeor.append(countingSortGraf(lista,len(lista)-1))\n",
    "\treturn (ypeor)"
   ]
  },
  {
   "cell_type": "code",
   "execution_count": 24,
   "metadata": {},
   "outputs": [
    {
     "name": "stdout",
     "output_type": "stream",
     "text": [
      "\n",
      "x: [1, 2, 3, 4, 5, 6, 7, 8, 9, 10, 11, 12, 13, 14, 15, 16, 17, 18, 19, 20, 21, 22, 23, 24, 25, 26, 27, 28, 29, 30, 31, 32, 33, 34, 35, 36, 37, 38, 39, 40, 41, 42, 43, 44, 45, 46, 47, 48, 49, 50, 51, 52, 53, 54, 55, 56, 57, 58, 59, 60, 61, 62, 63, 64, 65, 66, 67, 68, 69, 70, 71, 72, 73, 74, 75, 76, 77, 78, 79, 80, 81, 82, 83, 84, 85, 86, 87, 88, 89, 90, 91, 92, 93, 94, 95, 96, 97, 98, 99, 100]\n",
      "\n",
      "f(n): [2, 4, 6, 8, 10, 12, 14, 16, 18, 20, 22, 24, 26, 28, 30, 32, 34, 36, 38, 40, 42, 44, 46, 48, 50, 52, 54, 56, 58, 60, 62, 64, 66, 68, 70, 72, 74, 76, 78, 80, 82, 84, 86, 88, 90, 92, 94, 96, 98, 100, 102, 104, 106, 108, 110, 112, 114, 116, 118, 120, 122, 124, 126, 128, 130, 132, 134, 136, 138, 140, 142, 144, 146, 148, 150, 152, 154, 156, 158, 160, 162, 164, 166, 168, 170, 172, 174, 176, 178, 180, 182, 184, 186, 188, 190, 192, 194, 196, 198, 200]\n",
      "\n",
      "omicron: [2, 4, 6, 8, 10, 12, 14, 16, 18, 20, 22, 24, 26, 28, 30, 32, 34, 36, 38, 40, 42, 44, 46, 48, 50, 52, 54, 56, 58, 60, 62, 64, 66, 68, 70, 72, 74, 76, 78, 80, 82, 84, 86, 88, 90, 92, 94, 96, 98, 100, 102, 104, 106, 108, 110, 112, 114, 116, 118, 120, 122, 124, 126, 128, 130, 132, 134, 136, 138, 140, 142, 144, 146, 148, 150, 152, 154, 156, 158, 160, 162, 164, 166, 168, 170, 172, 174, 176, 178, 180, 182, 184, 186, 188, 190, 192, 194, 196, 198, 200]\n",
      "\n",
      "omega: [2, 4, 6, 8, 10, 12, 14, 16, 18, 20, 22, 24, 26, 28, 30, 32, 34, 36, 38, 40, 42, 44, 46, 48, 50, 52, 54, 56, 58, 60, 62, 64, 66, 68, 70, 72, 74, 76, 78, 80, 82, 84, 86, 88, 90, 92, 94, 96, 98, 100, 102, 104, 106, 108, 110, 112, 114, 116, 118, 120, 122, 124, 126, 128, 130, 132, 134, 136, 138, 140, 142, 144, 146, 148, 150, 152, 154, 156, 158, 160, 162, 164, 166, 168, 170, 172, 174, 176, 178, 180, 182, 184, 186, 188, 190, 192, 194, 196, 198, 200]\n"
     ]
    }
   ],
   "source": [
    "x = []\n",
    "fene = []\n",
    "omicron = []\n",
    "omega = []\n",
    "(x, fene) = graficarPromedio(100)\n",
    "(omega) = graficarMejor(100)\n",
    "(omicron) = graficarPeor(100)\n",
    "print(\"\\nx: \" + str(x) + \"\\n\\nf(n): \" + str(fene) + \"\\n\\nomicron: \" + str(omicron) + \"\\n\\nomega: \" + str(omega))"
   ]
  },
  {
   "cell_type": "code",
   "execution_count": 10,
   "metadata": {},
   "outputs": [
    {
     "data": {
      "image/png": "[encoded data removed]",
      "text/plain": [
       "<Figure size 432x288 with 1 Axes>"
      ]
     },
     "metadata": {},
     "output_type": "display_data"
    }
   ],
   "source": [
    "plt.plot( x, fene, 'g')\n",
    "plt.show()"
   ]
  },
  {
   "cell_type": "code",
   "execution_count": 11,
   "metadata": {},
   "outputs": [
    {
     "data": {
      "image/png": "[encoded data removed]",
      "text/plain": [
       "<Figure size 432x288 with 1 Axes>"
      ]
     },
     "metadata": {},
     "output_type": "display_data"
    }
   ],
   "source": [
    "plt.plot( x, omega, 'b')\n",
    "plt.show()"
   ]
  },
  {
   "cell_type": "code",
   "execution_count": 12,
   "metadata": {},
   "outputs": [
    {
     "data": {
      "image/png": "[encoded data removed]",
      "text/plain": [
       "<Figure size 432x288 with 1 Axes>"
      ]
     },
     "metadata": {},
     "output_type": "display_data"
    }
   ],
   "source": [
    "plt.plot( x, omicron, 'r')\n",
    "plt.show()"
   ]
  },
  {
   "cell_type": "code",
   "execution_count": null,
   "metadata": {},
   "outputs": [],
   "source": []
  },
  {
   "cell_type": "code",
   "execution_count": null,
   "metadata": {},
   "outputs": [],
   "source": []
  }
 ],
 "metadata": {
  "kernelspec": {
   "display_name": "Python 3",
   "language": "python",
   "name": "python3"
  },
  "language_info": {
   "codemirror_mode": {
    "name": "ipython",
    "version": 2
   },
   "file_extension": ".py",
   "mimetype": "text/x-python",
   "name": "python",
   "nbconvert_exporter": "python",
   "pygments_lexer": "ipython2",
   "version": "2.7.15"
  }
 },
 "nbformat": 4,
 "nbformat_minor": 2
}
