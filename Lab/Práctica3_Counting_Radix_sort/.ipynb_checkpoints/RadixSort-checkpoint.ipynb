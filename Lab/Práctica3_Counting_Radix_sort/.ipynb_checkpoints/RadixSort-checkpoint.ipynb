{
 "cells": [
  {
   "cell_type": "code",
   "execution_count": 11,
   "metadata": {},
   "outputs": [],
   "source": [
    "import numpy as np\n",
    "import matplotlib.pyplot as plt \n",
    "from mpl_toolkits.mplot3d import Axes3D\n",
    "import random\n",
    "%matplotlib inline\n",
    "from Node import *"
   ]
  },
  {
   "cell_type": "code",
   "execution_count": 12,
   "metadata": {},
   "outputs": [],
   "source": [
    "class Album:\n",
    "    def __init__(self, nombre, banda):\n",
    "        self.nombre = nombre\n",
    "        self.banda = banda"
   ]
  },
  {
   "cell_type": "code",
   "execution_count": 13,
   "metadata": {},
   "outputs": [],
   "source": [
    "A0 = Album(\"0\",\"0\")\n",
    "A1 = Album(\"Built on Glass\", \"Chet Faker\")\n",
    "A2 = Album(\"AM\", \"Arctic Monkeys\")\n",
    "A3 = Album(\"In Colour\", \"Jaime XX\")\n",
    "A4 = Album(\"Discovery\", \"Daft Punk\")\n",
    "A5 = Album(\"The Dark Side of the Moon\", \"Pink Floyd\")\n",
    "A6 = Album( \"L.A. Woman\", \"The Doors\")\n",
    "A7 = Album(\"Tiempos Mejores\", \"Comisario Pantera\")\n",
    "A8 = Album(\"Licenciado Cantinas\", \"Enrique Bunbury\")\n",
    "A9 = Album(\"Se las voy a dar a otro\", \"Jenny Rivera\")\n",
    "A10 = Album(\"Para los inutiles\", \"Paquita la del Barrio\")\n",
    "A11 = Album(\"Peligro\", \"Reik\")"
   ]
  },
  {
   "cell_type": "code",
   "execution_count": 15,
   "metadata": {},
   "outputs": [
    {
     "name": "stdout",
     "output_type": "stream",
     "text": [
      "nombre: 0, banda: 0\n",
      "nombre: Built on Glass, banda: Chet Faker\n",
      "nombre: AM, banda: Arctic Monkeys\n",
      "nombre: In Colour, banda: Jaime XX\n",
      "nombre: Discovery, banda: Daft Punk\n",
      "nombre: The Dark Side of the Moon, banda: Pink Floyd\n",
      "nombre: L.A. Woman, banda: The Doors\n",
      "nombre: Tiempos Mejores, banda: Comisario Pantera\n",
      "nombre: Licenciado Cantinas, banda: Enrique Bunbury\n",
      "nombre: Se las voy a dar a otro, banda: Jenny Rivera\n",
      "nombre: Para los inutiles, banda: Paquita la del Barrio\n",
      "nombre: Peligro, banda: Reik\n"
     ]
    }
   ],
   "source": [
    "Albums = (A0, A1, A2, A3, A4, A5, A6, A7, A8, A9, A10, A11)\n",
    "for i in range(len(Albums)):\n",
    "    print(\"nombre: {}, banda: {}\".format(Albums[i].nombre, Albums[i].banda))"
   ]
  },
  {
   "cell_type": "code",
   "execution_count": 19,
   "metadata": {},
   "outputs": [],
   "source": [
    "def obtenerElemSinClaves(E):\n",
    "    Elem = []\n",
    "    for i in range(1, len(E)):\n",
    "        Elem.append(E[i][0])\n",
    "    return Elem\n",
    "\n",
    "def formaArregloConClaves(B, numCar):\n",
    "    Btmp = []\n",
    "    for i in range(len(B)):\n",
    "        #print(B[i].name)\n",
    "        Btmp.append([B[i]] * 2)\n",
    "        #print(Btmp)\n",
    "        A3 = list(B[i].nombre)\n",
    "        #print(A3)\n",
    "        Btmp[i][1] = ord(A3[numCar-1])\n",
    "    return Btmp\n",
    "\n",
    "def countingSort2(A,k):\n",
    "    C=[0 for _ in range(k+1)]\n",
    "    B=[list(0 for _ in range(2)) for _ in range(len(A))]\n",
    "    for j in range(1, len(A)):\n",
    "        C[A[j][1]] = C[A[j][1]] + 1\n",
    "    for i in range(1, k+1):\n",
    "        C[i] = C[i] + C[i-1]\n",
    "    for j in range(len(A)-1, 0, -1):\n",
    "        B[ C[A[j][1]] ][1] = A[j][1]\n",
    "        B[ C[A[j][1]] ][0] = A[j][0]\n",
    "        C[ A[j][1] ] = C[ A[j][1]  ] - 1\n",
    "    return B\n",
    "\n",
    "def radixSort(A):\n",
    "    menor = len(A)\n",
    "    for x in range(len(A)-1):\n",
    "        if len(A[x].nombre) < menor:\n",
    "            menor = len(A[x].nombre)\n",
    "    numCar = menor\n",
    "    for i in range(numCar, 0, -1):\n",
    "        cc = formaArregloConClaves(A, i)\n",
    "        ordenado = countingSort2(cc,122)\n",
    "        A = obtenerElemSinClaves(ordenado)\n",
    "    return A"
   ]
  },
  {
   "cell_type": "code",
   "execution_count": 25,
   "metadata": {},
   "outputs": [
    {
     "name": "stdout",
     "output_type": "stream",
     "text": [
      "0, 0\n",
      "2, Canada\n",
      "3, China\n",
      "4, Haiti\n",
      "5, Brazil\n",
      "6, China\n",
      "7, Indonesia\n",
      "8, Armenia\n",
      "9, France\n",
      "10, Indonesia\n",
      "11, Thailand\n",
      "12, Brazil\n",
      "13, China\n",
      "14, Portugal\n",
      "15, Brazil\n",
      "16, France\n",
      "17, Greece\n",
      "18, China\n",
      "19, Indonesia\n",
      "20, Yemen\n",
      "21, Indonesia\n",
      "22, China\n",
      "23, Czech Republic\n",
      "24, Spain\n",
      "25, Yemen\n",
      "26, Peru\n",
      "27, China\n",
      "28, Russia\n",
      "29, Colombia\n",
      "30, Philippines\n",
      "31, China\n",
      "32, Macedonia\n",
      "33, Vietnam\n",
      "34, Portugal\n",
      "35, China\n",
      "36, China\n",
      "37, Philippines\n",
      "38, Nepal\n",
      "39, Malaysia\n",
      "40, Ukraine\n",
      "41, Russia\n",
      "42, China\n",
      "43, France\n",
      "44, China\n",
      "45, China\n",
      "46, Indonesia\n",
      "47, France\n",
      "48, Cyprus\n",
      "49, United States\n",
      "50, Greece\n"
     ]
    }
   ],
   "source": [
    "lista = readFromFile()\n",
    "for x in xrange(len(lista)):\n",
    "    \n",
    "lista[0] = Node(0, \"0\")\n",
    "printList(lista)"
   ]
  },
  {
   "cell_type": "code",
   "execution_count": 21,
   "metadata": {},
   "outputs": [
    {
     "name": "stdout",
     "output_type": "stream",
     "text": [
      "nombre: AM, banda: Arctic Monkeys\n",
      "nombre: Built on Glass, banda: Chet Faker\n",
      "nombre: Discovery, banda: Daft Punk\n",
      "nombre: In Colour, banda: Jaime XX\n",
      "nombre: L.A. Woman, banda: The Doors\n",
      "nombre: Licenciado Cantinas, banda: Enrique Bunbury\n",
      "nombre: Para los inutiles, banda: Paquita la del Barrio\n",
      "nombre: Peligro, banda: Reik\n",
      "nombre: Se las voy a dar a otro, banda: Jenny Rivera\n",
      "nombre: The Dark Side of the Moon, banda: Pink Floyd\n",
      "nombre: Tiempos Mejores, banda: Comisario Pantera\n"
     ]
    }
   ],
   "source": [
    "p = radixSort(Albums)\n",
    "for i in range(0, len(p), 1):\n",
    "    print(\"nombre: {}, banda: {}\".format(p[i].nombre, p[i].banda))"
   ]
  },
  {
   "cell_type": "code",
   "execution_count": 122,
   "metadata": {},
   "outputs": [],
   "source": [
    "contador = 0\n",
    "\n",
    "def obtenerElemSinClavesGraf(E):\n",
    "    global contador\n",
    "    Elem = []\n",
    "    Elem.append(\"000000\") \n",
    "    for i in range(1, len(E)):\n",
    "        contador += 1\n",
    "        Elem.append(E[i][0])\n",
    "    return Elem\n",
    "\n",
    "def formaArregloConClavesGraf(B, numCar):\n",
    "    Btmp = []\n",
    "    global contador\n",
    "    for i in range(len(B)):\n",
    "        contador += 1\n",
    "        #print(B[i].name)\n",
    "        Btmp.append([B[i]] * 2)\n",
    "        #print(Btmp)\n",
    "        A3 = list(B[i])\n",
    "        #print(A3)\n",
    "        Btmp[i][1] = ord(A3[numCar-1])\n",
    "    return Btmp\n",
    "\n",
    "def countingSort2Graf(A,k):\n",
    "    global contador\n",
    "    C=[0 for _ in range(k+1)]\n",
    "    B=[list(0 for _ in range(2)) for _ in range(len(A))]\n",
    "    for j in range(1, len(A)):\n",
    "        contador += 1\n",
    "        C[A[j][1]] = C[A[j][1]] + 1\n",
    "    for i in range(1, k+1):\n",
    "        contador += 1\n",
    "        C[i] = C[i] + C[i-1]\n",
    "    for j in range(len(A)-1, 0, -1):\n",
    "        contador += 1\n",
    "        B[ C[A[j][1]] ][1] = A[j][1]\n",
    "        B[ C[A[j][1]] ][0] = A[j][0]\n",
    "        C[ A[j][1] ] = C[ A[j][1]  ] - 1\n",
    "    return B\n",
    "\n",
    "def obtenerMenorGraf(A):\n",
    "    menor = len(A)\n",
    "    for x in range(len(A)-1):\n",
    "        if len(A[x]) < menor:\n",
    "            menor = len(A[x])\n",
    "    return menor\n",
    "def radixSortGraf(A):\n",
    "    numCar = obtenerMenorGraf(A)\n",
    "    global contador\n",
    "    for i in range(numCar, 0, -1):\n",
    "        contador += 1\n",
    "        cc = formaArregloConClavesGraf(A, i)\n",
    "        ordenado = countingSort2Graf(cc,122)\n",
    "        A = obtenerElemSinClavesGraf(ordenado)\n",
    "    return contador"
   ]
  },
  {
   "cell_type": "code",
   "execution_count": 135,
   "metadata": {},
   "outputs": [
    {
     "name": "stdout",
     "output_type": "stream",
     "text": [
      "(124, 1)\n",
      "(256, 2)\n",
      "(396, 3)\n",
      "(544, 4)\n",
      "(700, 5)\n",
      "(720, 6)\n",
      "(740, 7)\n",
      "(760, 8)\n",
      "(780, 9)\n",
      "(800, 10)\n",
      "(820, 11)\n",
      "(840, 12)\n",
      "(860, 13)\n",
      "(880, 14)\n",
      "(900, 15)\n",
      "(920, 16)\n",
      "(940, 17)\n",
      "(960, 18)\n",
      "(980, 19)\n",
      "(1000, 20)\n",
      "(1020, 21)\n",
      "(1040, 22)\n",
      "(1060, 23)\n",
      "(1080, 24)\n",
      "(1100, 25)\n",
      "(1120, 26)\n",
      "(1140, 27)\n",
      "(1160, 28)\n",
      "(1180, 29)\n",
      "(1200, 30)\n",
      "(1220, 31)\n",
      "(1240, 32)\n",
      "(1260, 33)\n",
      "(1280, 34)\n"
     ]
    },
    {
     "ename": "IndexError",
     "evalue": "list index out of range",
     "output_type": "error",
     "traceback": [
      "\u001b[0;31m---------------------------------------------------------------------------\u001b[0m",
      "\u001b[0;31mIndexError\u001b[0m                                Traceback (most recent call last)",
      "\u001b[0;32m<ipython-input-135-206b530ea9cc>\u001b[0m in \u001b[0;36m<module>\u001b[0;34m()\u001b[0m\n\u001b[1;32m     10\u001b[0m     \u001b[0mpaises\u001b[0m\u001b[0;34m.\u001b[0m\u001b[0minsert\u001b[0m\u001b[0;34m(\u001b[0m\u001b[0;36m0\u001b[0m\u001b[0;34m,\u001b[0m \u001b[0;34m\"00000\"\u001b[0m\u001b[0;34m)\u001b[0m\u001b[0;34m\u001b[0m\u001b[0m\n\u001b[1;32m     11\u001b[0m     \u001b[0mpaises\u001b[0m \u001b[0;34m=\u001b[0m \u001b[0mpaises\u001b[0m\u001b[0;34m[\u001b[0m\u001b[0;34m:\u001b[0m\u001b[0mj\u001b[0m\u001b[0;34m+\u001b[0m\u001b[0;36m1\u001b[0m\u001b[0;34m]\u001b[0m\u001b[0;34m\u001b[0m\u001b[0m\n\u001b[0;32m---> 12\u001b[0;31m     \u001b[0;32mprint\u001b[0m\u001b[0;34m(\u001b[0m\u001b[0mradixSortGraf\u001b[0m\u001b[0;34m(\u001b[0m\u001b[0mpaises\u001b[0m\u001b[0;34m)\u001b[0m\u001b[0;34m,\u001b[0m \u001b[0mlen\u001b[0m\u001b[0;34m(\u001b[0m\u001b[0mpaises\u001b[0m\u001b[0;34m)\u001b[0m\u001b[0;34m)\u001b[0m\u001b[0;34m\u001b[0m\u001b[0m\n\u001b[0m",
      "\u001b[0;32m<ipython-input-122-71c3deac9bd5>\u001b[0m in \u001b[0;36mradixSortGraf\u001b[0;34m(A)\u001b[0m\n\u001b[1;32m     51\u001b[0m     \u001b[0;32mfor\u001b[0m \u001b[0mi\u001b[0m \u001b[0;32min\u001b[0m \u001b[0mrange\u001b[0m\u001b[0;34m(\u001b[0m\u001b[0mnumCar\u001b[0m\u001b[0;34m,\u001b[0m \u001b[0;36m0\u001b[0m\u001b[0;34m,\u001b[0m \u001b[0;34m-\u001b[0m\u001b[0;36m1\u001b[0m\u001b[0;34m)\u001b[0m\u001b[0;34m:\u001b[0m\u001b[0;34m\u001b[0m\u001b[0m\n\u001b[1;32m     52\u001b[0m         \u001b[0mcontador\u001b[0m \u001b[0;34m+=\u001b[0m \u001b[0;36m1\u001b[0m\u001b[0;34m\u001b[0m\u001b[0m\n\u001b[0;32m---> 53\u001b[0;31m         \u001b[0mcc\u001b[0m \u001b[0;34m=\u001b[0m \u001b[0mformaArregloConClavesGraf\u001b[0m\u001b[0;34m(\u001b[0m\u001b[0mA\u001b[0m\u001b[0;34m,\u001b[0m \u001b[0mi\u001b[0m\u001b[0;34m)\u001b[0m\u001b[0;34m\u001b[0m\u001b[0m\n\u001b[0m\u001b[1;32m     54\u001b[0m         \u001b[0mordenado\u001b[0m \u001b[0;34m=\u001b[0m \u001b[0mcountingSort2Graf\u001b[0m\u001b[0;34m(\u001b[0m\u001b[0mcc\u001b[0m\u001b[0;34m,\u001b[0m\u001b[0;36m122\u001b[0m\u001b[0;34m)\u001b[0m\u001b[0;34m\u001b[0m\u001b[0m\n\u001b[1;32m     55\u001b[0m         \u001b[0mA\u001b[0m \u001b[0;34m=\u001b[0m \u001b[0mobtenerElemSinClavesGraf\u001b[0m\u001b[0;34m(\u001b[0m\u001b[0mordenado\u001b[0m\u001b[0;34m)\u001b[0m\u001b[0;34m\u001b[0m\u001b[0m\n",
      "\u001b[0;32m<ipython-input-122-71c3deac9bd5>\u001b[0m in \u001b[0;36mformaArregloConClavesGraf\u001b[0;34m(B, numCar)\u001b[0m\n\u001b[1;32m     20\u001b[0m         \u001b[0mA3\u001b[0m \u001b[0;34m=\u001b[0m \u001b[0mlist\u001b[0m\u001b[0;34m(\u001b[0m\u001b[0mB\u001b[0m\u001b[0;34m[\u001b[0m\u001b[0mi\u001b[0m\u001b[0;34m]\u001b[0m\u001b[0;34m)\u001b[0m\u001b[0;34m\u001b[0m\u001b[0m\n\u001b[1;32m     21\u001b[0m         \u001b[0;31m#print(A3)\u001b[0m\u001b[0;34m\u001b[0m\u001b[0;34m\u001b[0m\u001b[0m\n\u001b[0;32m---> 22\u001b[0;31m         \u001b[0mBtmp\u001b[0m\u001b[0;34m[\u001b[0m\u001b[0mi\u001b[0m\u001b[0;34m]\u001b[0m\u001b[0;34m[\u001b[0m\u001b[0;36m1\u001b[0m\u001b[0;34m]\u001b[0m \u001b[0;34m=\u001b[0m \u001b[0mord\u001b[0m\u001b[0;34m(\u001b[0m\u001b[0mA3\u001b[0m\u001b[0;34m[\u001b[0m\u001b[0mnumCar\u001b[0m\u001b[0;34m-\u001b[0m\u001b[0;36m1\u001b[0m\u001b[0;34m]\u001b[0m\u001b[0;34m)\u001b[0m\u001b[0;34m\u001b[0m\u001b[0m\n\u001b[0m\u001b[1;32m     23\u001b[0m     \u001b[0;32mreturn\u001b[0m \u001b[0mBtmp\u001b[0m\u001b[0;34m\u001b[0m\u001b[0m\n\u001b[1;32m     24\u001b[0m \u001b[0;34m\u001b[0m\u001b[0m\n",
      "\u001b[0;31mIndexError\u001b[0m: list index out of range"
     ]
    }
   ],
   "source": [
    "lista = readFromFile()\n",
    "sattoloCycle(lista)\n",
    "global contador\n",
    "paises = []\n",
    "for j in range(0,51):\n",
    "    paises = []\n",
    "    contador = 0\n",
    "    for x in lista:\n",
    "        paises.append(x.name)\n",
    "    paises.insert(0, \"00000\")\n",
    "    paises = paises[:j+1]\n",
    "    print(radixSortGraf(paises), len(paises))"
   ]
  },
  {
   "cell_type": "code",
   "execution_count": null,
   "metadata": {},
   "outputs": [],
   "source": []
  },
  {
   "cell_type": "code",
   "execution_count": null,
   "metadata": {},
   "outputs": [],
   "source": []
  }
 ],
 "metadata": {
  "kernelspec": {
   "display_name": "Python 3",
   "language": "python",
   "name": "python3"
  },
  "language_info": {
   "codemirror_mode": {
    "name": "ipython",
    "version": 2
   },
   "file_extension": ".py",
   "mimetype": "text/x-python",
   "name": "python",
   "nbconvert_exporter": "python",
   "pygments_lexer": "ipython2",
   "version": "2.7.15"
  }
 },
 "nbformat": 4,
 "nbformat_minor": 2
}
