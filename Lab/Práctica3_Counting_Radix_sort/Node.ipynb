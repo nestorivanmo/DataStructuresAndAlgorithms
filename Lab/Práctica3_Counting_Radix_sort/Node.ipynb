{
 "cells": [
  {
   "cell_type": "code",
   "execution_count": 31,
   "metadata": {},
   "outputs": [],
   "source": [
    "import csv\n",
    "from random import randrange"
   ]
  },
  {
   "cell_type": "code",
   "execution_count": 32,
   "metadata": {},
   "outputs": [],
   "source": [
    "class Node:\n",
    "    id = \"0\"\n",
    "    name = \"\"\n",
    "\n",
    "    def __init__(self, id, name):\n",
    "        self.id = id\n",
    "        self.name = name"
   ]
  },
  {
   "cell_type": "code",
   "execution_count": 33,
   "metadata": {},
   "outputs": [],
   "source": [
    "#append Node objects to a list\n",
    "def readFromFile():\n",
    "    lista = []\n",
    "    with open('country10.csv') as file:\n",
    "        reader = csv.reader(file, delimiter=',')\n",
    "        for row in reader:\n",
    "            x = Node(row[0], row[1])\n",
    "            if x.name != \"country\":\n",
    "                lista.append(x)\n",
    "    return lista\n",
    "\n",
    "\n",
    "#algorithm for shuffling a list`s items\n",
    "def sattoloCycle(items):\n",
    "    i = len(items)\n",
    "    while i > 1:\n",
    "        i -= 1\n",
    "        j = randrange(i)\n",
    "        items[j], items[i] = items[i], items[j]\n",
    "\n",
    "\n",
    "#algorithm for printing elements in a Node list\n",
    "def printList(items):\n",
    "    for x in items:\n",
    "        print(str(x.id) + \", \" + x.name)\n",
    "    \n",
    "def printList2(items):\n",
    "    for x in items:\n",
    "        print(x.id + \", \" + x.name)\n"
   ]
  },
  {
   "cell_type": "code",
   "execution_count": 30,
   "metadata": {},
   "outputs": [
    {
     "name": "stdout",
     "output_type": "stream",
     "text": [
      "1, Portugal\n",
      "2, China\n",
      "3, Tunisia\n",
      "4, Brazil\n",
      "5, China\n",
      "6, China\n",
      "7, China\n",
      "8, Guatemala\n",
      "9, China\n",
      "10, Russia\n"
     ]
    }
   ],
   "source": [
    "lista = readFromFile()\n",
    "printList(lista)"
   ]
  },
  {
   "cell_type": "code",
   "execution_count": null,
   "metadata": {},
   "outputs": [],
   "source": []
  }
 ],
 "metadata": {
  "kernelspec": {
   "display_name": "Python 3",
   "language": "python",
   "name": "python3"
  },
  "language_info": {
   "codemirror_mode": {
    "name": "ipython",
    "version": 2
   },
   "file_extension": ".py",
   "mimetype": "text/x-python",
   "name": "python",
   "nbconvert_exporter": "python",
   "pygments_lexer": "ipython2",
   "version": "2.7.15"
  }
 },
 "nbformat": 4,
 "nbformat_minor": 2
}
