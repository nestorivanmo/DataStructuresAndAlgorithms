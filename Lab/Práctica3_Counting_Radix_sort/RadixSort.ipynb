{
 "cells": [
  {
   "cell_type": "code",
   "execution_count": 17,
   "metadata": {},
   "outputs": [],
   "source": [
    "import numpy as np\n",
    "import matplotlib.pyplot as plt \n",
    "from mpl_toolkits.mplot3d import Axes3D\n",
    "import random\n",
    "%matplotlib inline\n",
    "import math\n",
    "from Node import *"
   ]
  },
  {
   "cell_type": "code",
   "execution_count": 18,
   "metadata": {},
   "outputs": [],
   "source": [
    "def obtenerElemSinClaves(E, numCar):\n",
    "    Elem = []\n",
    "    Elem.append(Node(0,'0'*numCar))\n",
    "    for i in range(1, len(E)):\n",
    "        Elem.append(E[i][0])\n",
    "    return Elem\n",
    "\n",
    "def formaArregloConClaves(B, numCar):\n",
    "    Btmp = []\n",
    "    for i in range(len(B)):\n",
    "        Btmp.append([B[i]] * 2)\n",
    "        A3 = list(B[i].name)\n",
    "        Btmp[i][1] = ord(A3[numCar-1])\n",
    "    return Btmp\n",
    "\n",
    "def countingSort2(A,k):\n",
    "    C=[0 for _ in range(k+1)]\n",
    "    B=[list(0 for _ in range(2)) for _ in range(len(A))]\n",
    "    for j in range(1, len(A)):\n",
    "        C[A[j][1]] = C[A[j][1]] + 1\n",
    "    for i in range(1, k+1):\n",
    "        C[i] = C[i] + C[i-1]\n",
    "    for j in range(len(A)-1, 0, -1):\n",
    "        B[ C[A[j][1]] ][1] = A[j][1]\n",
    "        B[ C[A[j][1]] ][0] = A[j][0]\n",
    "        C[ A[j][1] ] = C[ A[j][1]  ] - 1\n",
    "    return B\n",
    "\n",
    "def radixSort(A):\n",
    "    menor = len(A)\n",
    "    for x in range(len(A)-1):\n",
    "        if len(A[x].name) != 0 and len(A[x].name) < menor:\n",
    "            menor = len(A[x].name)\n",
    "    numCar = menor\n",
    "    for i in range(numCar, 0, -1):\n",
    "        cc = formaArregloConClaves(A, i)\n",
    "        ordenado = countingSort2(cc,122)\n",
    "        A = obtenerElemSinClaves(ordenado, numCar)\n",
    "    return A"
   ]
  },
  {
   "cell_type": "code",
   "execution_count": 19,
   "metadata": {},
   "outputs": [],
   "source": [
    "def readFromFile50():\n",
    "    lista = []\n",
    "    with open('country50.csv') as file:\n",
    "        reader = csv.reader(file, delimiter=',')\n",
    "        for row in reader:\n",
    "            x = Node(row[0], row[1])\n",
    "            if x.name != \"country\":\n",
    "                lista.append(x)\n",
    "    return lista"
   ]
  },
  {
   "cell_type": "code",
   "execution_count": 20,
   "metadata": {},
   "outputs": [
    {
     "name": "stdout",
     "output_type": "stream",
     "text": [
      "1, Indonesia\n",
      "2, Canada\n",
      "3, China\n",
      "4, Haiti\n",
      "5, Brazil\n",
      "6, China\n",
      "7, Indonesia\n",
      "8, Armenia\n",
      "9, France\n",
      "10, Indonesia\n",
      "11, Thailand\n",
      "12, Brazil\n",
      "13, China\n",
      "14, Portugal\n",
      "15, Brazil\n",
      "16, France\n",
      "17, Greece\n",
      "18, China\n",
      "19, Indonesia\n",
      "20, Yemen\n",
      "21, Indonesia\n",
      "22, China\n",
      "23, Colombia\n",
      "24, Spain\n",
      "25, Yemen\n",
      "26, Peru\n",
      "27, China\n",
      "28, Russia\n",
      "29, China\n",
      "30, Philippines\n",
      "31, China\n",
      "32, Macedonia\n",
      "33, Vietnam\n",
      "34, Portugal\n",
      "35, China\n",
      "36, China\n",
      "37, Philippines\n",
      "38, Nepal\n",
      "39, Malaysia\n",
      "40, Ukraine\n",
      "41, Russia\n",
      "42, China\n",
      "43, France\n",
      "44, China\n",
      "45, China\n",
      "46, Indonesia\n",
      "47, France\n",
      "48, Cyprus\n",
      "49, United States\n",
      "50, Greece\n"
     ]
    }
   ],
   "source": [
    "lista = readFromFile50()\n",
    "printList(lista)"
   ]
  },
  {
   "cell_type": "code",
   "execution_count": 21,
   "metadata": {},
   "outputs": [
    {
     "name": "stdout",
     "output_type": "stream",
     "text": [
      "0, 0000\n",
      "8, Armenia\n",
      "5, Brazil\n",
      "12, Brazil\n",
      "15, Brazil\n",
      "2, Canada\n",
      "3, China\n",
      "6, China\n",
      "13, China\n",
      "18, China\n",
      "22, China\n",
      "27, China\n",
      "29, China\n",
      "31, China\n",
      "35, China\n",
      "36, China\n",
      "42, China\n",
      "44, China\n",
      "45, China\n",
      "23, Colombia\n",
      "48, Cyprus\n",
      "9, France\n",
      "16, France\n",
      "43, France\n",
      "47, France\n",
      "17, Greece\n",
      "50, Greece\n",
      "4, Haiti\n",
      "7, Indonesia\n",
      "10, Indonesia\n",
      "19, Indonesia\n",
      "21, Indonesia\n",
      "46, Indonesia\n",
      "32, Macedonia\n",
      "39, Malaysia\n",
      "38, Nepal\n",
      "26, Peru\n",
      "30, Philippines\n",
      "37, Philippines\n",
      "14, Portugal\n",
      "34, Portugal\n",
      "28, Russia\n",
      "41, Russia\n",
      "24, Spain\n",
      "11, Thailand\n",
      "40, Ukraine\n",
      "49, United States\n",
      "33, Vietnam\n",
      "20, Yemen\n",
      "25, Yemen\n",
      "50\n"
     ]
    }
   ],
   "source": [
    "lista = radixSort(lista)\n",
    "printList(lista)\n",
    "print(len(lista))"
   ]
  },
  {
   "cell_type": "code",
   "execution_count": 23,
   "metadata": {},
   "outputs": [],
   "source": [
    "contador = 0\n",
    "\n",
    "def obtenerElemSinClavesGraf(E):\n",
    "    global contador\n",
    "    Elem = []\n",
    "    Elem.append(Node(0,'0'))\n",
    "    for i in range(1, len(E)):\n",
    "        contador += 1\n",
    "        Elem.append(E[i][0])\n",
    "    return Elem\n",
    "\n",
    "def formaArregloConClavesGraf(B, numCar):\n",
    "    global contaador\n",
    "    Btmp = []\n",
    "    contador = 0\n",
    "    for i in range(len(B)):\n",
    "        contador += 1\n",
    "        Btmp.append([B[i]] * 2)\n",
    "        A3 = list(B[i].name)\n",
    "        Btmp[i][1] = ord(A3[0])\n",
    "    return Btmp\n",
    "\n",
    "def countingSortGraf(A,k):\n",
    "    global contador\n",
    "    contador = 0\n",
    "    C=[0 for _ in range(k+1)]\n",
    "    B=[list(0 for _ in range(2)) for _ in range(len(A))]\n",
    "    for j in range(1, len(A)):\n",
    "        contador += 1\n",
    "        C[A[j][1]] = C[A[j][1]] + 1\n",
    "    for i in range(1, k+1):\n",
    "        contador += 1\n",
    "        C[i] = C[i] + C[i-1]\n",
    "    for j in range(len(A)-1, 0, -1):\n",
    "        contador += 1\n",
    "        B[ C[A[j][1]] ][1] = A[j][1]\n",
    "        B[ C[A[j][1]] ][0] = A[j][0]\n",
    "        C[ A[j][1] ] = C[ A[j][1]  ] - 1\n",
    "    return B\n",
    "\n",
    "def radixSortGraf(A):\n",
    "    global contador\n",
    "    menor = len(A)\n",
    "    for x in range(len(A)-1):\n",
    "        if len(A[x].name) < menor:\n",
    "            menor = len(A[x].name)\n",
    "    numCar = menor\n",
    "    for i in range(numCar, 0, -1):\n",
    "        contador += 1\n",
    "        cc = formaArregloConClavesGraf(A, i)\n",
    "        ordenado = countingSortGraf(cc,122)\n",
    "        A = obtenerElemSinClavesGraf(ordenado)"
   ]
  },
  {
   "cell_type": "code",
   "execution_count": 24,
   "metadata": {},
   "outputs": [
    {
     "name": "stdout",
     "output_type": "stream",
     "text": [
      "[0, 1, 2, 3, 4, 5, 6, 7, 8, 9, 10, 11, 12, 13, 14, 15, 16, 17, 18, 19, 20, 21, 22, 23, 24, 25, 26, 27, 28, 29, 30, 31, 32, 33, 34, 35, 36, 37, 38, 39, 40, 41, 42, 43, 44, 45, 46, 47, 48, 49]\n",
      "[0, 0, 122, 125, 128, 131, 134, 137, 140, 143, 146, 149, 152, 155, 158, 161, 164, 167, 170, 173, 176, 179, 182, 185, 188, 191, 194, 197, 200, 203, 206, 209, 212, 215, 218, 221, 224, 227, 230, 233, 236, 239, 242, 245, 248, 251, 254, 257, 260, 263]\n"
     ]
    }
   ],
   "source": [
    "xLista = []\n",
    "yMejor = []\n",
    "for x in range(len(lista)):\n",
    "    xLista.append(x)\n",
    "    contador = 0\n",
    "    lista = readFromFile50()\n",
    "    lista = lista[1:x]\n",
    "    radixSortGraf(lista), len(lista)\n",
    "    yMejor.append(contador)\n",
    "print(xLista)\n",
    "print(yMejor)"
   ]
  },
  {
   "cell_type": "code",
   "execution_count": 25,
   "metadata": {},
   "outputs": [
    {
     "data": {
      "image/png": "[encoded data removed]",
      "text/plain": [
       "<Figure size 432x288 with 1 Axes>"
      ]
     },
     "metadata": {},
     "output_type": "display_data"
    }
   ],
   "source": [
    "plt.plot( xLista, yMejor, 'r')\n",
    "plt.show()"
   ]
  },
  {
   "cell_type": "code",
   "execution_count": 26,
   "metadata": {},
   "outputs": [
    {
     "name": "stdout",
     "output_type": "stream",
     "text": [
      "([0, 1, 2, 3, 4, 5, 6, 7, 8, 9, 10, 11, 12, 13, 14, 15, 16, 17, 18, 19, 20, 21, 22, 23, 24, 25, 26, 27, 28, 29, 30, 31, 32, 33, 34, 35, 36, 37, 38, 39, 40, 41, 42, 43, 44, 45, 46, 47], 48)\n",
      "([0, 0, 122, 125, 128, 131, 134, 137, 140, 143, 146, 149, 152, 155, 158, 161, 164, 167, 170, 173, 176, 179, 182, 185, 188, 191, 194, 197, 200, 203, 206, 209, 212, 215, 218, 221, 224, 227, 230, 233, 236, 239, 242, 245, 248, 251, 254, 257], 48)\n"
     ]
    }
   ],
   "source": [
    "xLista = []\n",
    "yProm = []\n",
    "for x in range(len(lista)):\n",
    "    xLista.append(x)\n",
    "    contador = 0\n",
    "    lista = readFromFile50()\n",
    "    lista = lista[1:x]\n",
    "    sattoloCycle(lista)\n",
    "    radixSortGraf(lista), len(lista)\n",
    "    yProm.append(contador)\n",
    "print(xLista, len(xLista))\n",
    "print(yProm, len(yProm))"
   ]
  },
  {
   "cell_type": "code",
   "execution_count": 27,
   "metadata": {},
   "outputs": [
    {
     "data": {
      "image/png": "[encoded data removed]",
      "text/plain": [
       "<Figure size 432x288 with 1 Axes>"
      ]
     },
     "metadata": {},
     "output_type": "display_data"
    }
   ],
   "source": [
    "plt.plot( xLista, yProm, 'g')\n",
    "plt.show()"
   ]
  },
  {
   "cell_type": "code",
   "execution_count": 28,
   "metadata": {},
   "outputs": [
    {
     "name": "stdout",
     "output_type": "stream",
     "text": [
      "[0, 1, 2, 3, 4, 5, 6, 7, 8, 9, 10, 11, 12, 13, 14, 15, 16, 17, 18, 19, 20, 21, 22, 23, 24, 25, 26, 27, 28, 29, 30, 31, 32, 33, 34, 35, 36, 37, 38, 39, 40, 41, 42, 43, 44, 45]\n",
      "[0, 0, 122, 125, 128, 131, 134, 137, 140, 143, 146, 149, 152, 155, 158, 161, 164, 167, 170, 173, 176, 179, 182, 185, 188, 191, 194, 197, 200, 203, 206, 209, 212, 215, 218, 221, 224, 227, 230, 233, 236, 239, 242, 245, 248, 251]\n"
     ]
    }
   ],
   "source": [
    "xLista = []\n",
    "yPeor = []\n",
    "for x in range(len(lista)):\n",
    "    xLista.append(x)\n",
    "    contador = 0\n",
    "    lista = readFromFile50()\n",
    "    lista = lista[1:x]\n",
    "    lista.reverse()\n",
    "    radixSortGraf(lista), len(lista)\n",
    "    yPeor.append(contador)\n",
    "print(xLista)\n",
    "print(yPeor)"
   ]
  },
  {
   "cell_type": "code",
   "execution_count": 29,
   "metadata": {},
   "outputs": [
    {
     "data": {
      "image/png": "[encoded data removed]",
      "text/plain": [
       "<Figure size 432x288 with 1 Axes>"
      ]
     },
     "metadata": {},
     "output_type": "display_data"
    }
   ],
   "source": [
    "plt.plot( xLista, yPeor, 'b')\n",
    "plt.show()"
   ]
  }
 ],
 "metadata": {
  "kernelspec": {
   "display_name": "Python 3",
   "language": "python",
   "name": "python3"
  },
  "language_info": {
   "codemirror_mode": {
    "name": "ipython",
    "version": 2
   },
   "file_extension": ".py",
   "mimetype": "text/x-python",
   "name": "python",
   "nbconvert_exporter": "python",
   "pygments_lexer": "ipython2",
   "version": "2.7.15"
  }
 },
 "nbformat": 4,
 "nbformat_minor": 2
}
