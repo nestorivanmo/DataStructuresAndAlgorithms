{
 "cells": [
  {
   "cell_type": "code",
   "execution_count": 23,
   "metadata": {},
   "outputs": [],
   "source": [
    "import random \n",
    "import matplotlib.pyplot as plt"
   ]
  },
  {
   "cell_type": "code",
   "execution_count": 11,
   "metadata": {},
   "outputs": [],
   "source": [
    "contador = 0"
   ]
  },
  {
   "cell_type": "code",
   "execution_count": 12,
   "metadata": {},
   "outputs": [],
   "source": [
    "class Node:\n",
    "    def __init__(self, d):\n",
    "        self.sons = list()\n",
    "        self.keys = list()\n",
    "        self.leaf = 1\n",
    "        self.n = 0\n",
    "        for k in range(2*d):\n",
    "            self.keys.append(None)\n",
    "        for k in range(2*d + 1):\n",
    "            self.sons.append(None)"
   ]
  },
  {
   "cell_type": "code",
   "execution_count": 131,
   "metadata": {},
   "outputs": [],
   "source": [
    "class BTree:\n",
    "    def __init__(self,grade):\n",
    "        self.d = grade\n",
    "        self.root = None\n",
    "\n",
    "    def createTree(self):\n",
    "        if self.root == None:\n",
    "            self.root = Node(self.d)\n",
    "        return self.root\n",
    "\n",
    "    def split_b_tree(self, x, i):\n",
    "        global contador \n",
    "        z = Node(self.d)\n",
    "        y = x.sons[i]\n",
    "        z.leaf = y.leaf\n",
    "        z.n = self.d-1\n",
    "        for j in range(1, self.d):\n",
    "            z.keys[j] = y.keys[j+self.d]\n",
    "            y.keys[j+self.d] = None\n",
    "        if y.leaf == 0:\n",
    "            for j in range(1, self.d+1):\n",
    "                z.sons[j] = y.sons[j + self.d]\n",
    "                y.sons[j + self.d] = None\n",
    "\n",
    "        y.n = self.d - 1\n",
    "        for j in range(x.n + 1, i, -1):\n",
    "            x.sons[j+1] = x.sons[j]\n",
    "        x.sons[i+1] = z\n",
    "\n",
    "        for j in range (x.n, i-1, -1):\n",
    "            x.keys[j+1] = x.keys[j]\n",
    "\n",
    "        x.keys[i] = y.keys[self.d]\n",
    "        y.keys[self.d] = None\n",
    "        x.n = x.n + 1\n",
    "        contador += 1\n",
    "\n",
    "    def insert_non_full_b_tree(self, x, k):\n",
    "        global contador \n",
    "        i = x.n\n",
    "        if x.leaf == 1:\n",
    "            while i >= 1 and k < x.keys[i]:\n",
    "                x.keys[i+1] = x.keys[i]\n",
    "                i -= 1\n",
    "            x.keys[i+1] = k\n",
    "            x.n = x.n + 1\n",
    "        else:\n",
    "            while i >= 1 and k < x.keys[i]:\n",
    "                i -= 1\n",
    "            i += 1\n",
    "            if x.sons[i].n == 2*self.d - 1:\n",
    "                self.split_b_tree(x, i)\n",
    "                if k > x.keys[i]:\n",
    "                    i += 1\n",
    "            self.insert_non_full_b_tree(x.sons[i], k)\n",
    "\n",
    "    def insert_b_tree(self, k):\n",
    "        global contador \n",
    "        r = self.root\n",
    "        # print(\"r.n \" + str(r.n))\n",
    "        if r.n == 2*self.d -1:\n",
    "            s = Node(self.d)\n",
    "            self.root = s\n",
    "            s.leaf = 0\n",
    "            s.n = 0\n",
    "            s.sons[1] = r\n",
    "            self.split_b_tree(s, 1)\n",
    "            self.insert_non_full_b_tree(s, k)\n",
    "        else:\n",
    "            self.insert_non_full_b_tree(r, k)"
   ]
  },
  {
   "cell_type": "code",
   "execution_count": 94,
   "metadata": {},
   "outputs": [],
   "source": [
    "def printTree(node,tab):\n",
    "    print((\"\\t\"*tab)+\"\")\n",
    "    for i in range(1,len(node.keys)):\n",
    "        if(node.keys[i]!=None):\n",
    "            print((\"-\"*tab)+str(chr(node.keys[i])))\n",
    "    print((\"\\t\"*tab)+\"\")\n",
    "    if(node.leaf != 1):\n",
    "        for i in range(1,len(node.sons)):\n",
    "            if(node.sons[i]!= None):\n",
    "                printTree(node.sons[i],tab+1)"
   ]
  },
  {
   "cell_type": "code",
   "execution_count": 136,
   "metadata": {},
   "outputs": [
    {
     "name": "stdout",
     "output_type": "stream",
     "text": [
      "\n",
      "U\n",
      "\n",
      "\t\n",
      "-Q\n",
      "\t\n",
      "\t\t\n",
      "--K\n",
      "--K\n",
      "--O\n",
      "\t\t\n",
      "\t\t\n",
      "--S\n",
      "\t\t\n",
      "\t\n",
      "-V\n",
      "\t\n",
      "\t\t\n",
      "--U\n",
      "--U\n",
      "\t\t\n",
      "\t\t\n",
      "--V\n",
      "\t\t\n"
     ]
    }
   ],
   "source": [
    "bt = BTree(2)\n",
    "bt.createTree()\n",
    "n = 10\n",
    "for x in range(n):\n",
    "    r = random.randint(65,90)\n",
    "    bt.insert_b_tree(r)\n",
    "    \n",
    "printTree(bt.root,0)"
   ]
  },
  {
   "cell_type": "code",
   "execution_count": 135,
   "metadata": {},
   "outputs": [
    {
     "data": {
      "image/png": "[encoded data removed]",
      "text/plain": [
       "<Figure size 432x288 with 1 Axes>"
      ]
     },
     "metadata": {},
     "output_type": "display_data"
    }
   ],
   "source": [
    "global contador \n",
    "bt = BTree(2)\n",
    "bt.createTree()\n",
    "\n",
    "x = []\n",
    "y = []\n",
    "n = 100\n",
    "for i in range(n):\n",
    "    x.append(i)\n",
    "    contador = 0\n",
    "    for j in range(i):\n",
    "        r = random.randint(65,90)\n",
    "        bt.insert_b_tree(r)\n",
    "    y.append(contador)\n",
    "        \n",
    "    \n",
    "plt.plot(x,y)\n",
    "plt.show()"
   ]
  },
  {
   "cell_type": "code",
   "execution_count": null,
   "metadata": {},
   "outputs": [],
   "source": []
  },
  {
   "cell_type": "code",
   "execution_count": null,
   "metadata": {},
   "outputs": [],
   "source": []
  }
 ],
 "metadata": {
  "kernelspec": {
   "display_name": "Python 3",
   "language": "python",
   "name": "python3"
  },
  "language_info": {
   "codemirror_mode": {
    "name": "ipython",
    "version": 2
   },
   "file_extension": ".py",
   "mimetype": "text/x-python",
   "name": "python",
   "nbconvert_exporter": "python",
   "pygments_lexer": "ipython2",
   "version": "2.7.15"
  }
 },
 "nbformat": 4,
 "nbformat_minor": 2
}
