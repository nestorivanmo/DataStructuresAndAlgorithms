{
 "cells": [
  {
   "cell_type": "code",
   "execution_count": 10,
   "metadata": {},
   "outputs": [],
   "source": [
    "import random "
   ]
  },
  {
   "cell_type": "code",
   "execution_count": 11,
   "metadata": {},
   "outputs": [],
   "source": [
    "contador = 0"
   ]
  },
  {
   "cell_type": "code",
   "execution_count": 12,
   "metadata": {},
   "outputs": [],
   "source": [
    "class Node:\n",
    "    def __init__(self, d):\n",
    "        self.sons = list()\n",
    "        self.keys = list()\n",
    "        self.leaf = 1\n",
    "        self.n = 0\n",
    "        for k in range(2*d):\n",
    "            self.keys.append(None)\n",
    "        for k in range(2*d + 1):\n",
    "            self.sons.append(None)"
   ]
  },
  {
   "cell_type": "code",
   "execution_count": 13,
   "metadata": {},
   "outputs": [],
   "source": [
    "class BTree:\n",
    "    def __init__(self,grade):\n",
    "        self.d = grade\n",
    "        self.root = None\n",
    "\n",
    "    def createTree(self):\n",
    "        if self.root == None:\n",
    "            self.root = Node(self.d)\n",
    "        return self.root\n",
    "\n",
    "    def split_b_tree(self, x, i):\n",
    "        global contador \n",
    "        z = Node(self.d)\n",
    "        y = x.sons[i]\n",
    "        z.leaf = y.leaf\n",
    "        z.n = self.d-1\n",
    "        for j in range(1, self.d):\n",
    "            contador += 1\n",
    "            z.keys[j] = y.keys[j+self.d]\n",
    "            y.keys[j+self.d] = None\n",
    "        if y.leaf == 0:\n",
    "            for j in range(1, self.d+1):\n",
    "                z.sons[j] = y.sons[j + self.d]\n",
    "                y.sons[j + self.d] = None\n",
    "\n",
    "        y.n = self.d - 1\n",
    "        for j in range(x.n + 1, i, -1):\n",
    "            contador +=1\n",
    "            x.sons[j+1] = x.sons[j]\n",
    "        x.sons[i+1] = z\n",
    "\n",
    "        for j in range (x.n, i-1, -1):\n",
    "            contador +=1\n",
    "            x.keys[j+1] = x.keys[j]\n",
    "\n",
    "        x.keys[i] = y.keys[self.d]\n",
    "        y.keys[self.d] = None\n",
    "        x.n = x.n + 1\n",
    "\n",
    "    def insert_non_full_b_tree(self, x, k):\n",
    "        global contador \n",
    "        i = x.n\n",
    "        if x.leaf == 1:\n",
    "            # print(\"Llego -> \" + str(x.keys))\n",
    "            while i >= 1 and k < x.keys[i]:\n",
    "                contador += 1\n",
    "                x.keys[i+1] = x.keys[i]\n",
    "                i -= 1\n",
    "            x.keys[i+1] = k\n",
    "            x.n = x.n + 1\n",
    "            # print(\"Sale -> \" + str(x.keys))\n",
    "        else:\n",
    "            while i >= 1 and k < x.keys[i]:\n",
    "                contador += 1\n",
    "                i -= 1\n",
    "            i += 1\n",
    "            if x.sons[i].n == 2*self.d - 1:\n",
    "                self.split_b_tree(x, i)\n",
    "                if k > x.keys[i]:\n",
    "                    i += 1\n",
    "            self.insert_non_full_b_tree(x.sons[i], k)\n",
    "\n",
    "    def insert_b_tree(self, k):\n",
    "        global contador \n",
    "        r = self.root\n",
    "        # print(\"r.n \" + str(r.n))\n",
    "        if r.n == 2*self.d -1:\n",
    "            s = Node(self.d)\n",
    "            self.root = s\n",
    "            s.leaf = 0\n",
    "            s.n = 0\n",
    "            s.sons[1] = r\n",
    "            self.split_b_tree(s, 1)\n",
    "            self.insert_non_full_b_tree(s, k)\n",
    "        else:\n",
    "            self.insert_non_full_b_tree(r, k)\n",
    "        contador += 1"
   ]
  },
  {
   "cell_type": "code",
   "execution_count": 18,
   "metadata": {},
   "outputs": [
    {
     "name": "stdout",
     "output_type": "stream",
     "text": [
      "[0, 1, 2, 3, 4, 5, 6, 7, 8, 9]\n",
      "[1, 1, 1, 3, 3, 3, 2, 5, 2, 5]\n"
     ]
    }
   ],
   "source": [
    "global contador \n",
    "bt = BTree(2)\n",
    "bt.createTree()\n",
    "x = []\n",
    "y = []\n",
    "n = 10\n",
    "\n",
    "for i in range(n):\n",
    "    \n",
    "for j in range(10):\n",
    "    x.append(j)\n",
    "    contador = 0\n",
    "    r = random.randint(65,90)\n",
    "    bt.insert_b_tree(r)\n",
    "    y.append(contador)\n",
    "    \n",
    "print(x)\n",
    "print(y)"
   ]
  },
  {
   "cell_type": "code",
   "execution_count": null,
   "metadata": {},
   "outputs": [],
   "source": []
  }
 ],
 "metadata": {
  "kernelspec": {
   "display_name": "Python 3",
   "language": "python",
   "name": "python3"
  },
  "language_info": {
   "codemirror_mode": {
    "name": "ipython",
    "version": 2
   },
   "file_extension": ".py",
   "mimetype": "text/x-python",
   "name": "python",
   "nbconvert_exporter": "python",
   "pygments_lexer": "ipython2",
   "version": "2.7.15"
  }
 },
 "nbformat": 4,
 "nbformat_minor": 2
}
